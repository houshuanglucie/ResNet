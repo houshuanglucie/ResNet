{
 "cells": [
  {
   "cell_type": "markdown",
   "metadata": {
    "id": "wMlMf0NMU_AM"
   },
   "source": [
    "# Deep Residual Learning for Image Recognition\n",
    "\n",
    "Notebook written by Shuang HOU"
   ]
  },
  {
   "cell_type": "markdown",
   "metadata": {
    "id": "bvr6hAPGU_AP"
   },
   "source": [
    "At the end of 2015, Microsoft Research Asia released a paper titled [\"Deep Residual Learning for Image Recognition\" [1]](https://openaccess.thecvf.com/content_cvpr_2016/papers/He_Deep_Residual_Learning_CVPR_2016_paper.pdf), authored by Kaiming He, Xiangyu Zhang, Shaoqing Ren and Jian Sun. The paper achieved state-of-the-art results in Image classification and detection, winning the ImageNet and COCO competitions. This notebook is a PyTorch implementation of the Deep Residual Neural Networks (**ResNet** for short) based on this paper."
   ]
  },
  {
   "cell_type": "markdown",
   "metadata": {
    "id": "tyKz7jWRU_AR"
   },
   "source": [
    "This notebook is prepared for students who have participated in the AML course (or a fairly close course). It supposes a basic knowledge of Deep Learning and Convolutional Neural Networks, which have been introduced in the previous courses ([DL](https://github.com/SupaeroDataScience/deep-learning/tree/main/deep), [CNN](https://github.com/fchouteau/isae-practical-deep-learning)), you can refer to them if needed.\n",
    "\n",
    "If you encounter any problems in the process of running this notebook, please feel free to contact me, I will help you solve the problem together."
   ]
  },
  {
   "cell_type": "markdown",
   "metadata": {
    "id": "BLMlRLAOU_AS"
   },
   "source": [
    "**Table of contents:**\n",
    "0. [Preparation](#sec0)\n",
    "1. [Dataset: Fashion-MNIST](#sec1)\n",
    "2. [Problem introduction](#sec2)\n",
    "3. [Construction of Residual Networks](#sec3)\n",
    "4. [Experiments](#sec4)\n",
    "5. [Conclusion](#sec5)"
   ]
  },
  {
   "cell_type": "markdown",
   "metadata": {
    "id": "YIk0oNrnU_AT"
   },
   "source": [
    "# <a id=\"sec0\"></a>0. Preparation\n",
    "\n",
    "In this notebook, we'll be using `torch` and `torchvision`, which we have already used in previous AML courses. Run the following code cells to install the necessary packages and verify that everything is working by importing everything. If it doesn't work, check the `requirements.txt` file and install the libraries manually using either `pip install` or `conda install`.\n",
    "\n",
    "Please refer to the [PyTorch](https://pytorch.org/get-started/locally/) website for installation instructions if necessary. We'll also be using packages `sklearn`, `numpy`, and `matplotlib`. \n",
    "\n",
    "<div class=\"alert alert-danger\">\n",
    "\n",
    "Note that this notebook is fairly compute intensive and it might be better to **[run in Google Colab](https://colab.research.google.com/notebooks/intro.ipynb#recent=true).**\n",
    "    \n",
    "If you use Colab, mind yourself to **add external folders** (especially solutions and img) to it, the data folder is not necessary to be added, because the data can be downloaded by running the code cell in part 1 Dataset. Then change alter default hardware CPU to **GPU**: just follow `Edit` > `Notebook settings` or `Runtime` > `Change runtime type` and select `GPU` as Hardware accelerator.\n",
    "       \n",
    "</div>\n",
    "\n",
    "<img src=\"img/runtime.png\" width=\"35%\"></img>"
   ]
  },
  {
   "cell_type": "code",
   "execution_count": 1,
   "metadata": {
    "id": "LyVGdoasU_AU"
   },
   "outputs": [],
   "source": [
    "# !pip install -r requirements.txt"
   ]
  },
  {
   "cell_type": "code",
   "execution_count": 2,
   "metadata": {
    "id": "_SjP5f3RU_AV"
   },
   "outputs": [],
   "source": [
    "import torch\n",
    "import torch.nn as nn\n",
    "import torch.nn.functional as F\n",
    "import torch.utils.data.dataloader as Data\n",
    "from torch.autograd import Variable\n",
    "import torchvision\n",
    "from torchvision import datasets, models, transforms\n",
    "import numpy as np\n",
    "%matplotlib inline\n",
    "import matplotlib.pyplot as plt\n",
    "import time"
   ]
  },
  {
   "cell_type": "code",
   "execution_count": 3,
   "metadata": {
    "colab": {
     "base_uri": "https://localhost:8080/"
    },
    "id": "E7Rr5hJ7U_AV",
    "outputId": "bd8b0c8d-8e03-4a63-eb84-1785cae72f70"
   },
   "outputs": [
    {
     "name": "stdout",
     "output_type": "stream",
     "text": [
      "PyTorch Version:  1.7.0+cu101\n",
      "Torchvision Version:  0.8.1+cu101\n"
     ]
    }
   ],
   "source": [
    "print(\"PyTorch Version: \",torch.__version__)\n",
    "print(\"Torchvision Version: \",torchvision.__version__)"
   ]
  },
  {
   "cell_type": "markdown",
   "metadata": {
    "id": "_oKK0vHLU_AW"
   },
   "source": [
    "# <a id=\"sec1\"></a>1. Dataset: Fashion-MNIST"
   ]
  },
  {
   "cell_type": "markdown",
   "metadata": {
    "id": "kmqVoNTSU_AW"
   },
   "source": [
    "[Fashion-MNIST](https://github.com/zalandoresearch/fashion-mnist) is a dataset of Zalando's article images—consisting of a training set of 60,000 examples and a test set of 10,000 examples. Each example is a 28 $\\times$ 28 grayscale image, associated with a label from 10 classes. Fashion-MNIST is a direct drop-in replacement for the original MNIST dataset for benchmarking machine learning algorithms. It shares the same image size and structure of training and testing splits but is more complex.\n",
    "\n",
    "<img src=\"img/fashion-mnist-small.png\"></img>"
   ]
  },
  {
   "cell_type": "code",
   "execution_count": 4,
   "metadata": {
    "id": "uyeFXiOxU_AX"
   },
   "outputs": [],
   "source": [
    "labels_text = [\"T-shirt/top\", \"Trouser\", \"Pullover\", \"Dress\", \"Coat\", \"Sandal\", \"Shirt\", \"Sneaker\", \"Bag\", \"Ankle boot\"]"
   ]
  },
  {
   "cell_type": "markdown",
   "metadata": {
    "id": "i5n5HfH1U_AY"
   },
   "source": [
    "PyTorch comes with this dataset by default, but we need to download it. We'll then make dataloaders which lazily iterate through the datasets. We'll use a training set and a validation set and greatly reduce their sizes to make this notebook run in a reasonable time."
   ]
  },
  {
   "cell_type": "code",
   "execution_count": 5,
   "metadata": {
    "id": "szmFJ2KVU_AY"
   },
   "outputs": [],
   "source": [
    "# Hyperparameter for DataLoader\n",
    "BATH_SIZE = 512"
   ]
  },
  {
   "cell_type": "code",
   "execution_count": 6,
   "metadata": {
    "id": "o0g3waDqU_AY"
   },
   "outputs": [],
   "source": [
    "transform = transforms.Compose([transforms.ToTensor(),\n",
    "                                transforms.Normalize((0.5,), (0.5,))])\n",
    "\n",
    "full_trainset = torchvision.datasets.FashionMNIST(root='data', train=True, download=True, transform=transform)\n",
    "trainset, full_validset = torch.utils.data.random_split(full_trainset, (10000, 50000))\n",
    "validset, _ = torch.utils.data.random_split(full_validset, (1000, 49000))\n",
    "testset = torchvision.datasets.FashionMNIST(root='data', train=False, download=True, transform=transform)\n",
    "\n",
    "trainloader = torch.utils.data.DataLoader(trainset, batch_size=BATH_SIZE, shuffle=True, num_workers=2)\n",
    "validloader = torch.utils.data.DataLoader(validset, batch_size=BATH_SIZE, shuffle=True, num_workers=2)\n",
    "testloader = torch.utils.data.DataLoader(testset, batch_size=BATH_SIZE, shuffle=True, num_workers=2)"
   ]
  },
  {
   "cell_type": "code",
   "execution_count": 7,
   "metadata": {
    "colab": {
     "base_uri": "https://localhost:8080/"
    },
    "id": "ZsYTk3OoU_AZ",
    "outputId": "fbf95cf0-2f28-42a2-d5ff-6328313de639"
   },
   "outputs": [
    {
     "name": "stdout",
     "output_type": "stream",
     "text": [
      "Image batch dimensions: torch.Size([512, 1, 28, 28])\n",
      "Image label dimensions: torch.Size([512])\n"
     ]
    }
   ],
   "source": [
    "# Checking the dataset\n",
    "for images, labels in trainloader:\n",
    "    print('Image batch dimensions:', images.shape)\n",
    "    print('Image label dimensions:', labels.shape)\n",
    "    break"
   ]
  },
  {
   "cell_type": "markdown",
   "metadata": {
    "id": "lDP2UureU_Aa"
   },
   "source": [
    "# <a id=\"sec2\"></a>2. Problem introduction\n",
    "\n",
    "From experience, the depth of the network is crucial to the performance of the model. When the number of network layers is increased (increasing the depth), the network can extract more complex feature patterns, so theoretically, better results can be obtained when the model is deeper.\n",
    "\n",
    "But... Is learning better networks as easy as stacking more layers?\n",
    "\n",
    "Of course not! Deep network optimization is very difficult, and there will be many problems occurring, such as the notorious problem of [vanishing/exploding gradients [2]](https://ieeexplore-ieee-org.rev-doc.isae.fr/stamp/stamp.jsp?tp=&arnumber=279181). While these problems has been almost solved by methods such as [Normalized Initialization [3]](https://arxiv.org/pdf/1502.01852.pdf) and [Batch Normalization [4]](https://arxiv.org/pdf/1502.03167.pdf).\n",
    "\n",
    "However, experiments have found that when deeper networks are able to start converging, a degradation problem has been exposed. In other words, with the network depth increasing, accuracy gets saturated (which might be unsurprising) and then degrades rapidly. This phenomenon can be seen directly in Figure 1 from [paper[1]](https://openaccess.thecvf.com/content_cvpr_2016/papers/He_Deep_Residual_Learning_CVPR_2016_paper.pdf) which shows the training error (left) and test error (right) on CIFAR-10 with 20-layer and 56-layer \"plain\" networks. The deeper network has higher training error, and thus the same for test error. This is not caused by overfitting, because the training error (left) of the 56-layer network is also higher than that of the 20-layer.\n",
    "\n",
    "<img src=\"img/degradation.JPG\" width=\"60%\"></img>\n",
    "\n",
    "<center><font size=1.5><br>Figure 1. Training error (left) and test error (right) on CIFAR-10 with 20-layer and 56-layer \"plain\" networks.<br>\n",
    "    The deeper network has higher training error, and thus test error.</font></center>"
   ]
  },
  {
   "cell_type": "markdown",
   "metadata": {
    "id": "7CcavNkAU_Ab"
   },
   "source": [
    "<div class=\"alert alert-warning\">\n",
    "\n",
    "**Let's think about this question:**<br>\n",
    "\n",
    "What caused the deeper network degradation problem?\n",
    "\n",
    "How to effectively solve the \"degradation\" problem caused by the increase in network depth?\n",
    "    \n",
    "</div>"
   ]
  },
  {
   "cell_type": "markdown",
   "metadata": {
    "id": "AXLOefISU_Ab"
   },
   "source": [
    "<div class=\"alert alert-info\"><a href=\"#answer1\" data-toggle=\"collapse\"><b>Ready to see the answer? (click to expand)</b></a><br>\n",
    "<div id=\"answer1\" class=\"collapse\">\n",
    "\n",
    "The problem of degradation is mainly due to the increase in network depth. During model training, the gradient cannot be effectively transmitted to the shallow network, resulting in vanishing/exploding gradients. Batch Normalization (BN) changes the data distribution by normalizing the output data, which is a forward process to solve the vanishing/exploding gradients problem. \n",
    "    \n",
    "For the degradation problem, instead of directly fitting a desired underlying mapping, it is better to make the network fitting a residual mapping. Here comes the Residual Network (ResNet)! ResNet directly connects the shallow network and the deep network by adding **shortcut connection** (Identity Map), so that the gradient can be well transmitted to the shallow layer.\n",
    "    \n",
    "</div>\n",
    "</div>"
   ]
  },
  {
   "cell_type": "markdown",
   "metadata": {
    "id": "-tK7xbymU_Ac"
   },
   "source": [
    "# <a id=\"sec3\"></a>3. Construction of Residual Networks"
   ]
  },
  {
   "cell_type": "markdown",
   "metadata": {
    "id": "nQM7YkS6U_Ae"
   },
   "source": [
    "### <a id=\"sec3-1\"></a>3.1. Residual representation & shortcut connections"
   ]
  },
  {
   "cell_type": "markdown",
   "metadata": {
    "id": "n50T_4_JU_Ae"
   },
   "source": [
    "In response to the \"degradation\" problem, Kaiming He proposed a **deep residual learning framework**, which uses a multi-layer network to fit a residual mapping.\n",
    "\n",
    "Formally, denoting the desired underlying mapping as $H(x)$, we let the stacked nonlinear layers fit another mapping:\n",
    "\n",
    "$$F(x) := H(x)−x$$ \n",
    "\n",
    "The original mapping is recast into:\n",
    "\n",
    "$$F(x)+x$$. \n",
    "\n",
    "The formulation of $F(x)+x$ can be realized by feedforward neural networks with \"**shortcut connections**\". Shortcut connections are those skipping one or more layers. For the case in [paper [1]](https://openaccess.thecvf.com/content_cvpr_2016/papers/He_Deep_Residual_Learning_CVPR_2016_paper.pdf), the shortcut connections simply perform identity mapping, and their outputs are added to the outputs of the stacked layers. \n",
    "\n",
    "Figure 2 shows a 2-layer basic building block of residual learning in the deep residual networks:\n",
    "\n",
    "<img src=\"img/2-layer building block.JPG\" width=\"400px\"></img>\n",
    "\n",
    "<center><font size=1.5><br>Figure 2. Residual learning: a building block.</font></center>"
   ]
  },
  {
   "cell_type": "markdown",
   "metadata": {
    "id": "0ltCYHx4U_Ag"
   },
   "source": [
    "Why is easier to optimize the residual mapping than to optimize the original, unreferenced mapping?\n",
    "\n",
    "Formally, such a basic building block of ResNet can be expressed as:\n",
    "\n",
    "$$y_l = F(x_l,W_{l}) + x_l$$\n",
    "\n",
    "$$x_{l+1} = f(x_l)$$\n",
    "\n",
    "Where:\n",
    "\n",
    "- $x_l$ represents the input vector of the l-th residual block.\n",
    "- $x_{l+1}$ represents the output vector of the l-th residual block.\n",
    "- $F(x, W_l)$ represents the residual mapping to be learned, which is the superposition of multiple nonlinear convolutional layers.<br>\n",
    "  For the example in Figure 2 that has two layers, $F = W_2 \\sigma(W_1 x)$ in which $\\sigma$ represents the nonlinear activation function ReLU, and the biases are omitted for simplifying notations.\n",
    "- $F+x$ means shortcut connection, which corresponds to the addition of each pixel.\n",
    "- $f$ is an activation function.\n",
    "\n",
    "Then the learning representation from shallow to deep layer can be calculated as:\n",
    "\n",
    "$$X_L = x_l + \\sum_{i=l}^{L-1} F(x_i,W_{i}) $$\n",
    "\n",
    "According to the chain rule, the gradient of back propagation is:\n",
    "\n",
    "$$\\frac{\\partial loss}{\\partial x_l} = \\frac{\\partial loss}{\\partial x_L} · \\frac{\\partial x_L}{\\partial x_l} = \\frac{\\partial loss}{\\partial x_L} · \\left( 1+ \\frac{\\partial}{\\partial x_L}\\sum_{i=l}^{L-1} F(x_i,W_{i}) \\right)$$\n",
    "\n",
    "The $1$ in the parentheses indicates that the shortcut connection can spread the gradient without loss, and the other item (residual gradient) needs to pass through the layer with weights, thsu the gradient is not directly transferred. The residual gradient will not be so coincidentally that all are equal to -1, and even if it is relatively small, the existence of $1$ in the parentheses will not cause the gradient to disappear. So the residual learning will be easier than the original, unreferenced mapping."
   ]
  },
  {
   "cell_type": "markdown",
   "metadata": {
    "id": "jrH4AIbPU_Ai"
   },
   "source": [
    "<div class=\"alert alert-info\">\n",
    "\n",
    "**In brief:**<br>\n",
    "- If identity mappings are added, a deeper network will not perform worse than a shallow network.\n",
    "- It is difficult to learn identify mapings in a network structure composed of multiple non-linear layers.\n",
    "- If identity mapings is the optimal link method, then the weight parameters of $F(x)$ will tend to $0$.\n",
    "- If the optimal mapping is close to identity mappings, it is much easier to find the $F(x)$ corresponding to the identity mappings (initial parameters near 0) during optimization than to approximately fit a completely new function.\n",
    "    \n",
    "</div>"
   ]
  },
  {
   "cell_type": "markdown",
   "metadata": {
    "id": "yzJqnCMpU_Aj"
   },
   "source": [
    "<div class=\"alert alert-warning\">\n",
    "    \n",
    "**Note 1:**<br>\n",
    "    \n",
    "Identity shortcut connections add neither extra parameter nor computational complexity. The entire network can still be trained end-to-end by SGD with backpropagation, and can be easily implemented using common libraries (e.g., [Caffe [5]](https://arxiv.org/pdf/1408.5093.pdf)) without modifying the solvers.\n",
    "\n",
    "</div>\n",
    "    \n",
    "<div class=\"alert alert-warning\">\n",
    "\n",
    "**Note 2:**<br>\n",
    "    \n",
    "In the expression above $y_l = F(x_l,W_{l}) + x_l$, the dimensions of $x_l$ and $F$ must be equal. If this is not the case (e.g., when changing the input/output channels), we can perform a linear projection $W_s$ by the shortcut connections to match the dimensions, which can be implemented with a convolutional layer in programming:\n",
    "\n",
    "$$y_l = F(x_l, W_l) + W_{s}x_l$$\n",
    "\n",
    "The meaning of the parameters in this formula is the same as before. \n",
    "    \n",
    "</div>"
   ]
  },
  {
   "cell_type": "markdown",
   "metadata": {
    "id": "KKbQ5IP0U_Ak"
   },
   "source": [
    "### <a id=\"sec3-2\"></a>3.2. Basic building block"
   ]
  },
  {
   "cell_type": "markdown",
   "metadata": {
    "id": "wvIJk1wsU_Ak"
   },
   "source": [
    "A basic 2-layer building block is consist of the following parts sequentially, as shown in Figure 3:\n",
    "\n",
    "- a first 3$\\times$3 convolution\n",
    "- a Batch Normalization \n",
    "- ReLU activation\n",
    "- a second 3$\\times$3 convolution\n",
    "- a Batch Normalization \n",
    "- Addition of the shortcut connection\n",
    "- ReLU activation\n",
    "\n",
    "<img src=\"img/basic-building-block.png\" width=\"200px\"></img>\n",
    "\n",
    "<center><font size=1.5><br>Figure 3. The specific composition of the 2-layer basic building block</font></center>\n",
    "\n",
    "Now we come to implement this building block in programming:"
   ]
  },
  {
   "cell_type": "code",
   "execution_count": 8,
   "metadata": {
    "id": "UKmbf6dqU_Al"
   },
   "outputs": [],
   "source": [
    "def conv3x3(in_channel, out_channel, stride=1):\n",
    "    \"\"\"3x3 convolution with padding\"\"\"\n",
    "    return nn.Conv2d(in_channel, out_channel, kernel_size=3, \n",
    "                     stride=stride, padding=1, bias=False)"
   ]
  },
  {
   "cell_type": "code",
   "execution_count": 9,
   "metadata": {
    "id": "ljQkgM0yU_Al"
   },
   "outputs": [],
   "source": [
    "class BasicBlock(nn.Module):\n",
    "    \n",
    "    \"\"\"\n",
    "    Basic building block for ResNet-18/34.\n",
    "    \n",
    "    Args：\n",
    "        - in_channel: Number of input channel\n",
    "        - out_channel: Number of output channel\n",
    "        - stride: Number of stride \n",
    "        - downsample: \"None\" for identity downsample, otherwise for a real downsample\n",
    "    \n",
    "    \"\"\"\n",
    "    \n",
    "    expansion = 1    # Record whether the number of convolution kernels in each layer has changed\n",
    "    \n",
    "    def __init__(self, in_channel, out_channel, stride=1, downsample=None):\n",
    "        super(BasicBlock, self).__init__()\n",
    "        self.conv1 = conv3x3(in_channel, out_channel, stride)\n",
    "        self.bn1 = nn.BatchNorm2d(out_channel)\n",
    "        self.relu = nn.ReLU(inplace=True)\n",
    "        self.conv2 = conv3x3(out_channel, out_channel)\n",
    "        self.bn2 = nn.BatchNorm2d(out_channel)\n",
    "        self.downsample = downsample\n",
    "        self.stride = stride\n",
    "\n",
    "    def forward(self, x):\n",
    "        identity = x    # Record the output of the last residual block\n",
    "\n",
    "        out = self.conv1(x)\n",
    "        out = self.bn1(out)\n",
    "        out = self.relu(out)\n",
    "\n",
    "        out = self.conv2(out)\n",
    "        out = self.bn2(out)\n",
    "\n",
    "        if self.downsample is not None:    # Determine if need to downsample for dimension matching\n",
    "            identity = self.downsample(x)\n",
    "\n",
    "        out += identity\n",
    "        out = self.relu(out)\n",
    "\n",
    "        return out"
   ]
  },
  {
   "cell_type": "markdown",
   "metadata": {
    "id": "RTlFO003U_Am"
   },
   "source": [
    "### <a id=\"sec3-3\"></a>3.3. Deeper bottleneck building block"
   ]
  },
  {
   "cell_type": "markdown",
   "metadata": {
    "id": "bJqHl7BwU_Am"
   },
   "source": [
    "In terms of $F(x_l, W_l)$, it should not be limited to the 2-layer convolution connection mentioned above, it can be more diverse, 3 layers, or even more; but not 1 layer, because the performance of 1-layer will be unsatisfactory.\n",
    "\n",
    "A 3-layer building block is shown on the right of Figure 4, which called a **bottleneck** building block, and is used to build the ResNet-50/101/152.\n",
    "\n",
    "<img src=\"img/3-layer building block.JPG\"></img>\n",
    "\n",
    "<center><font size=1.5><br>Figure 4. Two different building blocks for residual learning.<br> \n",
    "    Left: a building block (on 56 $\\times$ 56 feature maps) as in Figure 6 for ResNet-34.<br>\n",
    "    Right: a \"bottleneck\" building block for ResNet-50/101/152.</font></center>\n",
    "    \n",
    "The purpose of such a bottleneck building block is to reduce the number of parameters. The first 1$\\times$1 convolution reduces the 256-dimensional channel to 64-dimensional, and then it is restored by 1$\\times$1 convolution at the end.\n",
    "\n",
    "The total number of parameters used in the bottleneck building block is: \n",
    "\n",
    "$$1\\times1\\times256\\times64 + 3\\times3\\times64\\times64 + 1\\times1\\times64\\times256 = 69632$$\n",
    "\n",
    "Without bottleneck, it is a convolution of two 3x3x256, the number of parameters is: \n",
    "\n",
    "$$3\\times3\\times256\\times256\\times2 = 1179648$$\n",
    "\n",
    "which is $16.94$ times the difference."
   ]
  },
  {
   "cell_type": "markdown",
   "metadata": {
    "id": "p-Ac7gocU_Am"
   },
   "source": [
    "The bottleneck building blocks used for ResNet-50/101/152 is shown in the Figure 5 below, composed of an identity block (skip connection) skipping over 3 layers, and a convolutional block used to adjust the dimensions.\n",
    "\n",
    "<img src=\"img/resnet50-identity-block.png\" width=\"70%\"></img>\n",
    "\n",
    "<img src=\"img/resnet50-conv-block.png\" width=\"70%\"></img>\n",
    "\n",
    "<center><font size=1.5><br>Figure 5. The bottleneck building blocks of ResNet-50/101/152</font></center>\n",
    "\n",
    "Now we come to implement this bottleneck building block in programming:"
   ]
  },
  {
   "cell_type": "code",
   "execution_count": 10,
   "metadata": {
    "id": "pEHqp2wuU_An"
   },
   "outputs": [],
   "source": [
    "def conv3x3(in_channel, out_channel, stride=1):\n",
    "    \"\"\"3x3 convolution with padding\"\"\"\n",
    "    return nn.Conv2d(in_channel, out_channel, kernel_size=3,\n",
    "                     stride=stride, padding=1, bias=False)\n",
    "\n",
    "def conv1x1(in_channel, out_channel, stride=1):\n",
    "    \"\"\"1x1 convolution\"\"\"\n",
    "    return nn.Conv2d(in_channel, out_channel, kernel_size=1, stride=stride, bias=False)"
   ]
  },
  {
   "cell_type": "code",
   "execution_count": 11,
   "metadata": {
    "id": "FDz8bhFaU_An"
   },
   "outputs": [],
   "source": [
    "class Bottleneck(nn.Module):\n",
    "    \"\"\"\n",
    "    Bottleneck building block for ResNet-50/101/152.\n",
    "    \n",
    "    Args：\n",
    "        - in_channel: Number of input channel\n",
    "        - out_channel: Number of output channel\n",
    "        - stride: Number of stride \n",
    "        - downsample: \"None\" for identity downsample, otherwise for a real downsample\n",
    "    \n",
    "    \"\"\"\n",
    "\n",
    "    expansion = 4       # The number of convolution kernels in the third layer (256, 512, 1024, 2048) \n",
    "                        # is 4 times the number of convolution kernels in the first or second layer (64, 128, 256, 512)\n",
    "\n",
    "    def __init__(self, in_channel, out_channel, stride=1, downsample=None):\n",
    "        super(Bottleneck, self).__init__()\n",
    "        self.conv1 = conv1x1(in_channel, out_channel)           # Squeeze channels for dimensionality reduce\n",
    "        self.bn1 = nn.BatchNorm2d(out_channel)\n",
    "        self.conv2 = conv3x3(out_channel, out_channel, stride)\n",
    "        self.bn2 = nn.BatchNorm2d(out_channel)\n",
    "        self.conv3 = conv1x1(out_channel, out_channel * self.expansion)   # Unsqueeze channels for dimensionality increase\n",
    "        self.bn3 = nn.BatchNorm2d(out_channel * self.expansion)\n",
    "        self.relu = nn.ReLU(inplace=True)\n",
    "        self.downsample = downsample\n",
    "        self.stride = stride\n",
    "\n",
    "    def forward(self, x):\n",
    "        identity = x\n",
    "\n",
    "        out = self.conv1(x)\n",
    "        out = self.bn1(out)\n",
    "        out = self.relu(out)\n",
    "\n",
    "        out = self.conv2(out)\n",
    "        out = self.bn2(out)\n",
    "        out = self.relu(out)\n",
    "\n",
    "        out = self.conv3(out)\n",
    "        out = self.bn3(out)\n",
    "\n",
    "        if self.downsample is not None:\n",
    "            identity = self.downsample(x)\n",
    "\n",
    "        out += identity\n",
    "        out = self.relu(out)\n",
    "\n",
    "        return out"
   ]
  },
  {
   "cell_type": "markdown",
   "metadata": {
    "id": "yq2OTYTYU_An"
   },
   "source": [
    "### <a id=\"sec3-3\"></a>3.3. Complete network architectures\n",
    "\n",
    "On the right of the Figure 6 is a overall residual network with 34 parameter layers (ResNet-34). The dotted shortcuts increase dimensions. <br>\n",
    "Table 1 shows more details and other variants.\n",
    "\n",
    "<img src=\"img/plain-res nets.jpg\" width=\"55%\"></img>\n",
    "\n",
    "<center><font size=1.5><br>Figure 6. Example network architectures for ImageNet.<br>\n",
    "    Left: the [VGG-19] model(19.6 billion FLOPs) as a reference.<br> \n",
    "    Middle: a plain network with 34 parameter layers (3.6 billion FLOPs).<br>\n",
    "    Right: a residual network with 34 parameter layers (3.6 billionFLOPs).<br>\n",
    "    The dotted shortcuts increase dimensions.</font></center>\n",
    "\n",
    "<center><font size=1.5><br>Table 1. Architectures for ResNet-18/34 and ResNet-50/101/152.<br>\n",
    "    Building blocks are shown in brackets, with the numbers of blocks stacked.<br>\n",
    "    Downsampling is performed by conv3, conv4, and conv5 with a stride of 2.</font></center>\n",
    "    \n",
    "<img src=\"img/ResNet-architecture.JPG\" width=\"80%\"></img>"
   ]
  },
  {
   "cell_type": "markdown",
   "metadata": {
    "id": "oG0HKcNSU_Ao"
   },
   "source": [
    "The building blocks of the same color can be considered as a large color-layer of the whole ResNet. For example, for the ResNet-34 and ResNet-50, the number of residual blocks in each color-layer are both: [3, 4, 6, 3] according to Table 1.\n",
    "\n",
    "Therefore, for **ResNet-34**, it is sequentially consist of:\n",
    "\n",
    "- conv1: a 3 x 3 convolution (+ maxpool)\n",
    "- conv2: **3** basic building block, output size = 56 x 56\n",
    "- conv3: **4** basic building block, output size = 28 x 28\n",
    "- conv4: **6** basic building block, output size = 14 x 14\n",
    "- conv5: **3** basic building block, output size = 7 x 7\n",
    "- avgpool + fc: output size = 1 x 1\n",
    "\n",
    "For ResNet-34, the number of layers of each residual block is **[3, 4, 6, 3]**.\n",
    "\n",
    "The total number of layers of ResNet-34 is: $1 + 2\\times(3+4+6+3) + 1 = 34$, so called ResNet-34."
   ]
  },
  {
   "cell_type": "markdown",
   "metadata": {
    "id": "yFWtw_cgU_Ao"
   },
   "source": [
    "Similar for **ResNet-50**, except changing the 2-layer basic building block to a 3-layer bottleneck building block:\n",
    "\n",
    "- conv1: a 3 x 3 convolution (+ maxpool)\n",
    "- conv2: **3** bottleneck building block, output size = 56 x 56\n",
    "- conv3: **4** bottleneck building block, output size = 28 x 28\n",
    "- conv4: **6** bottleneck building block, output size = 14 x 14\n",
    "- conv5: **3** bottleneck building block, output size = 7 x 7\n",
    "- avgpool + fc: output size = 1 x 1\n",
    "\n",
    "For ResNet-50, the number of layers of each residual block is the same as ResNet-34 : **[3, 4, 6, 3]**.\n",
    "\n",
    "The total number of layers of ResNet-50 is: $1 + 3\\times(3+4+6+3) + 1 = 50$, so called ResNet-50."
   ]
  },
  {
   "cell_type": "markdown",
   "metadata": {
    "id": "HPrLQQBAU_Ao"
   },
   "source": [
    "**ResNet-101** has the same bettleneck building block as ResNet-50, but with a different layer numbers.\n",
    "\n",
    "- conv1: a 3 x 3 convolution (+ maxpool)\n",
    "- conv2: **3** bottleneck building block, output size = 56 x 56\n",
    "- conv3: **4** bottleneck building block, output size = 28 x 28\n",
    "- conv4: **23** bottleneck building block, output size = 14 x 14\n",
    "- conv5: **3** bottleneck building block, output size = 7 x 7\n",
    "- avgpool + fc: output size = 1 x 1\n",
    "\n",
    "For ResNet-101, the number of layers of each residual block is **[3, 4, 23, 3]**.\n",
    "\n",
    "The total number of layers of ResNet-101 is: $1 + 3\\times(3+4+23+3) + 1 = 101$, so called ResNet-101."
   ]
  },
  {
   "cell_type": "markdown",
   "metadata": {
    "id": "p1Cwg1m9U_Ap"
   },
   "source": [
    "Now that we have previously defined the two different building blocks, let's implement the complete residual networks!"
   ]
  },
  {
   "cell_type": "code",
   "execution_count": 12,
   "metadata": {
    "id": "gPZ0XLEQU_Ap"
   },
   "outputs": [],
   "source": [
    "class ResNet(nn.Module):\n",
    "    \"\"\"\n",
    "    Implementation of ResNet architecture.\n",
    "    \n",
    "    Arg：\n",
    "        - block: \"BasicBlock\" for ResNet-18/34, \"Bottleneck\" for ResNet-50/101/152\n",
    "        - layers: The number of each residual layer, for example, [3,4,6,3] for the ResNet-34/50\n",
    "        - num_classes: The number of labels in the data set\n",
    "        - grayscale: \"True\" for single-channel images, \"False\" for 3-channel images\n",
    "\n",
    "    \"\"\"\n",
    "\n",
    "    def __init__(self, block, layers, num_classes, grayscale):\n",
    "        self.in_channel = 64\n",
    "        if grayscale:\n",
    "            in_dim = 1\n",
    "        else:\n",
    "            in_dim = 3\n",
    "        super(ResNet, self).__init__()\n",
    "        \n",
    "        #  conv1 + maxpooling\n",
    "        self.conv1 = nn.Conv2d(in_dim, 64, kernel_size=7, stride=2, padding=3, bias=False)\n",
    "        self.bn1 = nn.BatchNorm2d(64)\n",
    "        self.relu = nn.ReLU(inplace=True)\n",
    "        self.maxpool = nn.MaxPool2d(kernel_size=3, stride=2, padding=1)\n",
    "        \n",
    "        #  conv2,3,4,5\n",
    "        self.layer1 = self._make_layer(block, 64, layers[0])\n",
    "        self.layer2 = self._make_layer(block, 128, layers[1], stride=2)\n",
    "        self.layer3 = self._make_layer(block, 256, layers[2], stride=2)\n",
    "        self.layer4 = self._make_layer(block, 512, layers[3], stride=2)\n",
    "        \n",
    "        #  avgpooling + fully connected layer\n",
    "        self.avgpool = nn.AdaptiveAvgPool2d(1)\n",
    "        self.fc = nn.Linear(512 * block.expansion, num_classes)\n",
    "\n",
    "        #  Initialization of the convolutional layer\n",
    "        for m in self.modules():\n",
    "            if isinstance(m, nn.Conv2d):\n",
    "                nn.init.kaiming_normal_(m.weight, mode='fan_out', nonlinearity='relu')\n",
    "\n",
    "    def _make_layer(self, block, out_channel, blocks, stride=1):\n",
    "        downsample = None\n",
    "        if stride != 1 or self.in_channel != out_channel * block.expansion:\n",
    "            downsample = nn.Sequential(\n",
    "                nn.Conv2d(self.in_channel, out_channel * block.expansion, kernel_size=1, stride=stride, bias=False),\n",
    "                nn.BatchNorm2d(out_channel * block.expansion),\n",
    "            )\n",
    "\n",
    "        layers = []\n",
    "        layers.append(block(self.in_channel, out_channel, stride, downsample))\n",
    "        self.in_channel = out_channel * block.expansion\n",
    "        for i in range(1, blocks):\n",
    "            layers.append(block(self.in_channel, out_channel))\n",
    "\n",
    "        return nn.Sequential(*layers)\n",
    "\n",
    "    def forward(self, x):\n",
    "        x = self.conv1(x)\n",
    "        x = self.bn1(x)\n",
    "        x = self.relu(x)\n",
    "        x = self.maxpool(x)\n",
    "\n",
    "        x = self.layer1(x)\n",
    "        x = self.layer2(x)\n",
    "        x = self.layer3(x)\n",
    "        x = self.layer4(x)\n",
    "\n",
    "        x = self.avgpool(x)\n",
    "        x = x.view(x.size(0), -1)\n",
    "        x = self.fc(x)\n",
    "\n",
    "        return x"
   ]
  },
  {
   "cell_type": "code",
   "execution_count": 13,
   "metadata": {
    "id": "fqiUCn_nU_Ap"
   },
   "outputs": [],
   "source": [
    "def resnet34(num_classes, grayscale):\n",
    "    \"\"\"Constructs a ResNet-34 model.\"\"\"\n",
    "    net = ResNet(block = BasicBlock,\n",
    "                 layers = [3, 4, 6, 3],\n",
    "                 num_classes = num_classes,\n",
    "                 grayscale = grayscale)\n",
    "    return net"
   ]
  },
  {
   "cell_type": "code",
   "execution_count": 14,
   "metadata": {
    "id": "RGU8m5LPU_Aq"
   },
   "outputs": [],
   "source": [
    "def resnet50(num_classes, grayscale):\n",
    "    \"\"\"Constructs a ResNet-50 model.\"\"\"\n",
    "    net = ResNet(block = Bottleneck,\n",
    "                 layers = [3, 4, 6, 3],\n",
    "                 num_classes = num_classes,\n",
    "                 grayscale = grayscale)\n",
    "    return net"
   ]
  },
  {
   "cell_type": "markdown",
   "metadata": {
    "id": "4Gij3WnsU_Ar"
   },
   "source": [
    "<div class=\"alert alert-success\">\n",
    "\n",
    "**Now it's your turn!**\n",
    "<br>    \n",
    "Exercise 1: Known that **ResNet-18** has the same basic building block as ResNet-34, but for ResNet-18, the number of color-layers of each block is: **[2, 2, 2, 2]**, try to construct a function for resnet18.\n",
    "    \n",
    "</div>"
   ]
  },
  {
   "cell_type": "code",
   "execution_count": 15,
   "metadata": {
    "id": "vkViAqCfU_As"
   },
   "outputs": [],
   "source": [
    "# %load solutions/resnet18.py\n",
    "def resnet18(num_classes, grayscale):\n",
    "    \"\"\"Constructs a ResNet-18 model.\"\"\"\n",
    "    ### WRITE YOUR CODE HERE\n",
    "    return net"
   ]
  },
  {
   "cell_type": "markdown",
   "metadata": {
    "id": "cwAtdSeHU_As"
   },
   "source": [
    "<div class=\"alert alert-success\">\n",
    "\n",
    "Exercise 2: **ResNet-101** has the same bottleneck building block as ResNet-50, but for ResNet-101, the number of color-layers is: **[3, 4, 23, 3]**, try to construct a function for resnet101.\n",
    "    \n",
    "</div>"
   ]
  },
  {
   "cell_type": "code",
   "execution_count": 16,
   "metadata": {
    "id": "gObKW0EWU_As"
   },
   "outputs": [],
   "source": [
    "# %load solutions/resnet101.py\n",
    "def resnet101(num_classes, grayscale):\n",
    "    \"\"\"Constructs a ResNet-101 model.\"\"\"\n",
    "    ### WRITE YOUR CODE HERE\n",
    "    return net"
   ]
  },
  {
   "cell_type": "markdown",
   "metadata": {
    "id": "SHRw1zGPU_At"
   },
   "source": [
    "<div class=\"alert alert-success\">\n",
    "\n",
    "Exercise 3: **ResNet-152** has the same bottleneck building block as ResNet-50, but with the number of color-layers: **[3, 8, 36, 3]**, try to construct a function for resnet152.\n",
    "    \n",
    "</div>"
   ]
  },
  {
   "cell_type": "code",
   "execution_count": 17,
   "metadata": {
    "id": "Knhxs7rfU_At"
   },
   "outputs": [],
   "source": [
    "# %load solutions/resnet152.py\n",
    "def resnet152(num_classes, grayscale):\n",
    "    \"\"\"Constructs a ResNet-152 model.\"\"\"\n",
    "    ### WRITE YOUR CODE HERE\n",
    "    return net"
   ]
  },
  {
   "cell_type": "markdown",
   "metadata": {
    "id": "PCimv2osU_At"
   },
   "source": [
    "# <a id=\"sec4\"></a>4. Experiments\n",
    "\n",
    "At the beginning of the experiment, there are some preparatory works to do:\n",
    "\n",
    "- Set up the device, the GPU is preferred because the calculation is very resource-intensive.\n",
    "- Setting global hyperparameters, which can be used for possible parameter tuning.\n",
    "- Model instantiation, for ResNet-34, ResNet-50 and ResNet101.\n",
    "\n",
    "In this part of experiments, we will conduct a comparative analysis of the model performance for ResNet-34, ResNet-50 and ResNet-101, because they are currently the three most commonly used residual network structures, and they have comparable meanings with each other: ResNet-34 and ResNet-50 have the same number of residual network layers [3, 4, 6, 3], ResNet-50 and ResNet-101 have the same bottleneck building blocks. We will successively experiment these three ResNet models respectively for model training, verification, and testing."
   ]
  },
  {
   "cell_type": "code",
   "execution_count": 18,
   "metadata": {
    "colab": {
     "base_uri": "https://localhost:8080/"
    },
    "id": "r4512ZEKU_At",
    "outputId": "36aa5c0f-a64d-40d3-8e9d-64aa42393782"
   },
   "outputs": [
    {
     "name": "stdout",
     "output_type": "stream",
     "text": [
      "Training on cuda:0\n"
     ]
    }
   ],
   "source": [
    "# Set up the device\n",
    "device = torch.device(\"cuda:0\" if torch.cuda.is_available() else \"cpu\")\n",
    "print('Training on {}'.format(device))"
   ]
  },
  {
   "cell_type": "code",
   "execution_count": 19,
   "metadata": {
    "id": "iRiIZpPRU_Au"
   },
   "outputs": [],
   "source": [
    "# Hyperparameters\n",
    "LEARNING_RATE = 0.001\n",
    "BATCH_SIZE = 512\n",
    "NUM_EPOCHS = 50\n",
    "\n",
    "# Architecture\n",
    "NUM_FEATURES = 32*32\n",
    "NUM_CLASSES = 10\n",
    "\n",
    "# Other\n",
    "GRAYSCALE = True"
   ]
  },
  {
   "cell_type": "markdown",
   "metadata": {
    "id": "9sR0PF14U_Au"
   },
   "source": [
    "Run the following three cells to instantiate the model ResNet-34, ResNet-50 and ResNet-101 respectively, and for each ResNet, the specific composition of each layer will be displayed for viewing."
   ]
  },
  {
   "cell_type": "code",
   "execution_count": 20,
   "metadata": {
    "colab": {
     "base_uri": "https://localhost:8080/"
    },
    "id": "zpClETZ0U_Au",
    "outputId": "9215561a-dd30-4232-b8ed-4488cf76b8f7"
   },
   "outputs": [
    {
     "name": "stdout",
     "output_type": "stream",
     "text": [
      "ResNet(\n",
      "  (conv1): Conv2d(1, 64, kernel_size=(7, 7), stride=(2, 2), padding=(3, 3), bias=False)\n",
      "  (bn1): BatchNorm2d(64, eps=1e-05, momentum=0.1, affine=True, track_running_stats=True)\n",
      "  (relu): ReLU(inplace=True)\n",
      "  (maxpool): MaxPool2d(kernel_size=3, stride=2, padding=1, dilation=1, ceil_mode=False)\n",
      "  (layer1): Sequential(\n",
      "    (0): BasicBlock(\n",
      "      (conv1): Conv2d(64, 64, kernel_size=(3, 3), stride=(1, 1), padding=(1, 1), bias=False)\n",
      "      (bn1): BatchNorm2d(64, eps=1e-05, momentum=0.1, affine=True, track_running_stats=True)\n",
      "      (relu): ReLU(inplace=True)\n",
      "      (conv2): Conv2d(64, 64, kernel_size=(3, 3), stride=(1, 1), padding=(1, 1), bias=False)\n",
      "      (bn2): BatchNorm2d(64, eps=1e-05, momentum=0.1, affine=True, track_running_stats=True)\n",
      "    )\n",
      "    (1): BasicBlock(\n",
      "      (conv1): Conv2d(64, 64, kernel_size=(3, 3), stride=(1, 1), padding=(1, 1), bias=False)\n",
      "      (bn1): BatchNorm2d(64, eps=1e-05, momentum=0.1, affine=True, track_running_stats=True)\n",
      "      (relu): ReLU(inplace=True)\n",
      "      (conv2): Conv2d(64, 64, kernel_size=(3, 3), stride=(1, 1), padding=(1, 1), bias=False)\n",
      "      (bn2): BatchNorm2d(64, eps=1e-05, momentum=0.1, affine=True, track_running_stats=True)\n",
      "    )\n",
      "    (2): BasicBlock(\n",
      "      (conv1): Conv2d(64, 64, kernel_size=(3, 3), stride=(1, 1), padding=(1, 1), bias=False)\n",
      "      (bn1): BatchNorm2d(64, eps=1e-05, momentum=0.1, affine=True, track_running_stats=True)\n",
      "      (relu): ReLU(inplace=True)\n",
      "      (conv2): Conv2d(64, 64, kernel_size=(3, 3), stride=(1, 1), padding=(1, 1), bias=False)\n",
      "      (bn2): BatchNorm2d(64, eps=1e-05, momentum=0.1, affine=True, track_running_stats=True)\n",
      "    )\n",
      "  )\n",
      "  (layer2): Sequential(\n",
      "    (0): BasicBlock(\n",
      "      (conv1): Conv2d(64, 128, kernel_size=(3, 3), stride=(2, 2), padding=(1, 1), bias=False)\n",
      "      (bn1): BatchNorm2d(128, eps=1e-05, momentum=0.1, affine=True, track_running_stats=True)\n",
      "      (relu): ReLU(inplace=True)\n",
      "      (conv2): Conv2d(128, 128, kernel_size=(3, 3), stride=(1, 1), padding=(1, 1), bias=False)\n",
      "      (bn2): BatchNorm2d(128, eps=1e-05, momentum=0.1, affine=True, track_running_stats=True)\n",
      "      (downsample): Sequential(\n",
      "        (0): Conv2d(64, 128, kernel_size=(1, 1), stride=(2, 2), bias=False)\n",
      "        (1): BatchNorm2d(128, eps=1e-05, momentum=0.1, affine=True, track_running_stats=True)\n",
      "      )\n",
      "    )\n",
      "    (1): BasicBlock(\n",
      "      (conv1): Conv2d(128, 128, kernel_size=(3, 3), stride=(1, 1), padding=(1, 1), bias=False)\n",
      "      (bn1): BatchNorm2d(128, eps=1e-05, momentum=0.1, affine=True, track_running_stats=True)\n",
      "      (relu): ReLU(inplace=True)\n",
      "      (conv2): Conv2d(128, 128, kernel_size=(3, 3), stride=(1, 1), padding=(1, 1), bias=False)\n",
      "      (bn2): BatchNorm2d(128, eps=1e-05, momentum=0.1, affine=True, track_running_stats=True)\n",
      "    )\n",
      "    (2): BasicBlock(\n",
      "      (conv1): Conv2d(128, 128, kernel_size=(3, 3), stride=(1, 1), padding=(1, 1), bias=False)\n",
      "      (bn1): BatchNorm2d(128, eps=1e-05, momentum=0.1, affine=True, track_running_stats=True)\n",
      "      (relu): ReLU(inplace=True)\n",
      "      (conv2): Conv2d(128, 128, kernel_size=(3, 3), stride=(1, 1), padding=(1, 1), bias=False)\n",
      "      (bn2): BatchNorm2d(128, eps=1e-05, momentum=0.1, affine=True, track_running_stats=True)\n",
      "    )\n",
      "    (3): BasicBlock(\n",
      "      (conv1): Conv2d(128, 128, kernel_size=(3, 3), stride=(1, 1), padding=(1, 1), bias=False)\n",
      "      (bn1): BatchNorm2d(128, eps=1e-05, momentum=0.1, affine=True, track_running_stats=True)\n",
      "      (relu): ReLU(inplace=True)\n",
      "      (conv2): Conv2d(128, 128, kernel_size=(3, 3), stride=(1, 1), padding=(1, 1), bias=False)\n",
      "      (bn2): BatchNorm2d(128, eps=1e-05, momentum=0.1, affine=True, track_running_stats=True)\n",
      "    )\n",
      "  )\n",
      "  (layer3): Sequential(\n",
      "    (0): BasicBlock(\n",
      "      (conv1): Conv2d(128, 256, kernel_size=(3, 3), stride=(2, 2), padding=(1, 1), bias=False)\n",
      "      (bn1): BatchNorm2d(256, eps=1e-05, momentum=0.1, affine=True, track_running_stats=True)\n",
      "      (relu): ReLU(inplace=True)\n",
      "      (conv2): Conv2d(256, 256, kernel_size=(3, 3), stride=(1, 1), padding=(1, 1), bias=False)\n",
      "      (bn2): BatchNorm2d(256, eps=1e-05, momentum=0.1, affine=True, track_running_stats=True)\n",
      "      (downsample): Sequential(\n",
      "        (0): Conv2d(128, 256, kernel_size=(1, 1), stride=(2, 2), bias=False)\n",
      "        (1): BatchNorm2d(256, eps=1e-05, momentum=0.1, affine=True, track_running_stats=True)\n",
      "      )\n",
      "    )\n",
      "    (1): BasicBlock(\n",
      "      (conv1): Conv2d(256, 256, kernel_size=(3, 3), stride=(1, 1), padding=(1, 1), bias=False)\n",
      "      (bn1): BatchNorm2d(256, eps=1e-05, momentum=0.1, affine=True, track_running_stats=True)\n",
      "      (relu): ReLU(inplace=True)\n",
      "      (conv2): Conv2d(256, 256, kernel_size=(3, 3), stride=(1, 1), padding=(1, 1), bias=False)\n",
      "      (bn2): BatchNorm2d(256, eps=1e-05, momentum=0.1, affine=True, track_running_stats=True)\n",
      "    )\n",
      "    (2): BasicBlock(\n",
      "      (conv1): Conv2d(256, 256, kernel_size=(3, 3), stride=(1, 1), padding=(1, 1), bias=False)\n",
      "      (bn1): BatchNorm2d(256, eps=1e-05, momentum=0.1, affine=True, track_running_stats=True)\n",
      "      (relu): ReLU(inplace=True)\n",
      "      (conv2): Conv2d(256, 256, kernel_size=(3, 3), stride=(1, 1), padding=(1, 1), bias=False)\n",
      "      (bn2): BatchNorm2d(256, eps=1e-05, momentum=0.1, affine=True, track_running_stats=True)\n",
      "    )\n",
      "    (3): BasicBlock(\n",
      "      (conv1): Conv2d(256, 256, kernel_size=(3, 3), stride=(1, 1), padding=(1, 1), bias=False)\n",
      "      (bn1): BatchNorm2d(256, eps=1e-05, momentum=0.1, affine=True, track_running_stats=True)\n",
      "      (relu): ReLU(inplace=True)\n",
      "      (conv2): Conv2d(256, 256, kernel_size=(3, 3), stride=(1, 1), padding=(1, 1), bias=False)\n",
      "      (bn2): BatchNorm2d(256, eps=1e-05, momentum=0.1, affine=True, track_running_stats=True)\n",
      "    )\n",
      "    (4): BasicBlock(\n",
      "      (conv1): Conv2d(256, 256, kernel_size=(3, 3), stride=(1, 1), padding=(1, 1), bias=False)\n",
      "      (bn1): BatchNorm2d(256, eps=1e-05, momentum=0.1, affine=True, track_running_stats=True)\n",
      "      (relu): ReLU(inplace=True)\n",
      "      (conv2): Conv2d(256, 256, kernel_size=(3, 3), stride=(1, 1), padding=(1, 1), bias=False)\n",
      "      (bn2): BatchNorm2d(256, eps=1e-05, momentum=0.1, affine=True, track_running_stats=True)\n",
      "    )\n",
      "    (5): BasicBlock(\n",
      "      (conv1): Conv2d(256, 256, kernel_size=(3, 3), stride=(1, 1), padding=(1, 1), bias=False)\n",
      "      (bn1): BatchNorm2d(256, eps=1e-05, momentum=0.1, affine=True, track_running_stats=True)\n",
      "      (relu): ReLU(inplace=True)\n",
      "      (conv2): Conv2d(256, 256, kernel_size=(3, 3), stride=(1, 1), padding=(1, 1), bias=False)\n",
      "      (bn2): BatchNorm2d(256, eps=1e-05, momentum=0.1, affine=True, track_running_stats=True)\n",
      "    )\n",
      "  )\n",
      "  (layer4): Sequential(\n",
      "    (0): BasicBlock(\n",
      "      (conv1): Conv2d(256, 512, kernel_size=(3, 3), stride=(2, 2), padding=(1, 1), bias=False)\n",
      "      (bn1): BatchNorm2d(512, eps=1e-05, momentum=0.1, affine=True, track_running_stats=True)\n",
      "      (relu): ReLU(inplace=True)\n",
      "      (conv2): Conv2d(512, 512, kernel_size=(3, 3), stride=(1, 1), padding=(1, 1), bias=False)\n",
      "      (bn2): BatchNorm2d(512, eps=1e-05, momentum=0.1, affine=True, track_running_stats=True)\n",
      "      (downsample): Sequential(\n",
      "        (0): Conv2d(256, 512, kernel_size=(1, 1), stride=(2, 2), bias=False)\n",
      "        (1): BatchNorm2d(512, eps=1e-05, momentum=0.1, affine=True, track_running_stats=True)\n",
      "      )\n",
      "    )\n",
      "    (1): BasicBlock(\n",
      "      (conv1): Conv2d(512, 512, kernel_size=(3, 3), stride=(1, 1), padding=(1, 1), bias=False)\n",
      "      (bn1): BatchNorm2d(512, eps=1e-05, momentum=0.1, affine=True, track_running_stats=True)\n",
      "      (relu): ReLU(inplace=True)\n",
      "      (conv2): Conv2d(512, 512, kernel_size=(3, 3), stride=(1, 1), padding=(1, 1), bias=False)\n",
      "      (bn2): BatchNorm2d(512, eps=1e-05, momentum=0.1, affine=True, track_running_stats=True)\n",
      "    )\n",
      "    (2): BasicBlock(\n",
      "      (conv1): Conv2d(512, 512, kernel_size=(3, 3), stride=(1, 1), padding=(1, 1), bias=False)\n",
      "      (bn1): BatchNorm2d(512, eps=1e-05, momentum=0.1, affine=True, track_running_stats=True)\n",
      "      (relu): ReLU(inplace=True)\n",
      "      (conv2): Conv2d(512, 512, kernel_size=(3, 3), stride=(1, 1), padding=(1, 1), bias=False)\n",
      "      (bn2): BatchNorm2d(512, eps=1e-05, momentum=0.1, affine=True, track_running_stats=True)\n",
      "    )\n",
      "  )\n",
      "  (avgpool): AdaptiveAvgPool2d(output_size=1)\n",
      "  (fc): Linear(in_features=512, out_features=10, bias=True)\n",
      ")\n"
     ]
    }
   ],
   "source": [
    "net34 = resnet34(NUM_CLASSES, GRAYSCALE)\n",
    "net34 = net34.to(device)\n",
    "print(net34)"
   ]
  },
  {
   "cell_type": "code",
   "execution_count": 21,
   "metadata": {
    "colab": {
     "base_uri": "https://localhost:8080/"
    },
    "id": "aM01p3EkU_Au",
    "outputId": "be2c5de0-c996-4d19-fcf7-454b1585c4bd"
   },
   "outputs": [
    {
     "name": "stdout",
     "output_type": "stream",
     "text": [
      "ResNet(\n",
      "  (conv1): Conv2d(1, 64, kernel_size=(7, 7), stride=(2, 2), padding=(3, 3), bias=False)\n",
      "  (bn1): BatchNorm2d(64, eps=1e-05, momentum=0.1, affine=True, track_running_stats=True)\n",
      "  (relu): ReLU(inplace=True)\n",
      "  (maxpool): MaxPool2d(kernel_size=3, stride=2, padding=1, dilation=1, ceil_mode=False)\n",
      "  (layer1): Sequential(\n",
      "    (0): Bottleneck(\n",
      "      (conv1): Conv2d(64, 64, kernel_size=(1, 1), stride=(1, 1), bias=False)\n",
      "      (bn1): BatchNorm2d(64, eps=1e-05, momentum=0.1, affine=True, track_running_stats=True)\n",
      "      (conv2): Conv2d(64, 64, kernel_size=(3, 3), stride=(1, 1), padding=(1, 1), bias=False)\n",
      "      (bn2): BatchNorm2d(64, eps=1e-05, momentum=0.1, affine=True, track_running_stats=True)\n",
      "      (conv3): Conv2d(64, 256, kernel_size=(1, 1), stride=(1, 1), bias=False)\n",
      "      (bn3): BatchNorm2d(256, eps=1e-05, momentum=0.1, affine=True, track_running_stats=True)\n",
      "      (relu): ReLU(inplace=True)\n",
      "      (downsample): Sequential(\n",
      "        (0): Conv2d(64, 256, kernel_size=(1, 1), stride=(1, 1), bias=False)\n",
      "        (1): BatchNorm2d(256, eps=1e-05, momentum=0.1, affine=True, track_running_stats=True)\n",
      "      )\n",
      "    )\n",
      "    (1): Bottleneck(\n",
      "      (conv1): Conv2d(256, 64, kernel_size=(1, 1), stride=(1, 1), bias=False)\n",
      "      (bn1): BatchNorm2d(64, eps=1e-05, momentum=0.1, affine=True, track_running_stats=True)\n",
      "      (conv2): Conv2d(64, 64, kernel_size=(3, 3), stride=(1, 1), padding=(1, 1), bias=False)\n",
      "      (bn2): BatchNorm2d(64, eps=1e-05, momentum=0.1, affine=True, track_running_stats=True)\n",
      "      (conv3): Conv2d(64, 256, kernel_size=(1, 1), stride=(1, 1), bias=False)\n",
      "      (bn3): BatchNorm2d(256, eps=1e-05, momentum=0.1, affine=True, track_running_stats=True)\n",
      "      (relu): ReLU(inplace=True)\n",
      "    )\n",
      "    (2): Bottleneck(\n",
      "      (conv1): Conv2d(256, 64, kernel_size=(1, 1), stride=(1, 1), bias=False)\n",
      "      (bn1): BatchNorm2d(64, eps=1e-05, momentum=0.1, affine=True, track_running_stats=True)\n",
      "      (conv2): Conv2d(64, 64, kernel_size=(3, 3), stride=(1, 1), padding=(1, 1), bias=False)\n",
      "      (bn2): BatchNorm2d(64, eps=1e-05, momentum=0.1, affine=True, track_running_stats=True)\n",
      "      (conv3): Conv2d(64, 256, kernel_size=(1, 1), stride=(1, 1), bias=False)\n",
      "      (bn3): BatchNorm2d(256, eps=1e-05, momentum=0.1, affine=True, track_running_stats=True)\n",
      "      (relu): ReLU(inplace=True)\n",
      "    )\n",
      "  )\n",
      "  (layer2): Sequential(\n",
      "    (0): Bottleneck(\n",
      "      (conv1): Conv2d(256, 128, kernel_size=(1, 1), stride=(1, 1), bias=False)\n",
      "      (bn1): BatchNorm2d(128, eps=1e-05, momentum=0.1, affine=True, track_running_stats=True)\n",
      "      (conv2): Conv2d(128, 128, kernel_size=(3, 3), stride=(2, 2), padding=(1, 1), bias=False)\n",
      "      (bn2): BatchNorm2d(128, eps=1e-05, momentum=0.1, affine=True, track_running_stats=True)\n",
      "      (conv3): Conv2d(128, 512, kernel_size=(1, 1), stride=(1, 1), bias=False)\n",
      "      (bn3): BatchNorm2d(512, eps=1e-05, momentum=0.1, affine=True, track_running_stats=True)\n",
      "      (relu): ReLU(inplace=True)\n",
      "      (downsample): Sequential(\n",
      "        (0): Conv2d(256, 512, kernel_size=(1, 1), stride=(2, 2), bias=False)\n",
      "        (1): BatchNorm2d(512, eps=1e-05, momentum=0.1, affine=True, track_running_stats=True)\n",
      "      )\n",
      "    )\n",
      "    (1): Bottleneck(\n",
      "      (conv1): Conv2d(512, 128, kernel_size=(1, 1), stride=(1, 1), bias=False)\n",
      "      (bn1): BatchNorm2d(128, eps=1e-05, momentum=0.1, affine=True, track_running_stats=True)\n",
      "      (conv2): Conv2d(128, 128, kernel_size=(3, 3), stride=(1, 1), padding=(1, 1), bias=False)\n",
      "      (bn2): BatchNorm2d(128, eps=1e-05, momentum=0.1, affine=True, track_running_stats=True)\n",
      "      (conv3): Conv2d(128, 512, kernel_size=(1, 1), stride=(1, 1), bias=False)\n",
      "      (bn3): BatchNorm2d(512, eps=1e-05, momentum=0.1, affine=True, track_running_stats=True)\n",
      "      (relu): ReLU(inplace=True)\n",
      "    )\n",
      "    (2): Bottleneck(\n",
      "      (conv1): Conv2d(512, 128, kernel_size=(1, 1), stride=(1, 1), bias=False)\n",
      "      (bn1): BatchNorm2d(128, eps=1e-05, momentum=0.1, affine=True, track_running_stats=True)\n",
      "      (conv2): Conv2d(128, 128, kernel_size=(3, 3), stride=(1, 1), padding=(1, 1), bias=False)\n",
      "      (bn2): BatchNorm2d(128, eps=1e-05, momentum=0.1, affine=True, track_running_stats=True)\n",
      "      (conv3): Conv2d(128, 512, kernel_size=(1, 1), stride=(1, 1), bias=False)\n",
      "      (bn3): BatchNorm2d(512, eps=1e-05, momentum=0.1, affine=True, track_running_stats=True)\n",
      "      (relu): ReLU(inplace=True)\n",
      "    )\n",
      "    (3): Bottleneck(\n",
      "      (conv1): Conv2d(512, 128, kernel_size=(1, 1), stride=(1, 1), bias=False)\n",
      "      (bn1): BatchNorm2d(128, eps=1e-05, momentum=0.1, affine=True, track_running_stats=True)\n",
      "      (conv2): Conv2d(128, 128, kernel_size=(3, 3), stride=(1, 1), padding=(1, 1), bias=False)\n",
      "      (bn2): BatchNorm2d(128, eps=1e-05, momentum=0.1, affine=True, track_running_stats=True)\n",
      "      (conv3): Conv2d(128, 512, kernel_size=(1, 1), stride=(1, 1), bias=False)\n",
      "      (bn3): BatchNorm2d(512, eps=1e-05, momentum=0.1, affine=True, track_running_stats=True)\n",
      "      (relu): ReLU(inplace=True)\n",
      "    )\n",
      "  )\n",
      "  (layer3): Sequential(\n",
      "    (0): Bottleneck(\n",
      "      (conv1): Conv2d(512, 256, kernel_size=(1, 1), stride=(1, 1), bias=False)\n",
      "      (bn1): BatchNorm2d(256, eps=1e-05, momentum=0.1, affine=True, track_running_stats=True)\n",
      "      (conv2): Conv2d(256, 256, kernel_size=(3, 3), stride=(2, 2), padding=(1, 1), bias=False)\n",
      "      (bn2): BatchNorm2d(256, eps=1e-05, momentum=0.1, affine=True, track_running_stats=True)\n",
      "      (conv3): Conv2d(256, 1024, kernel_size=(1, 1), stride=(1, 1), bias=False)\n",
      "      (bn3): BatchNorm2d(1024, eps=1e-05, momentum=0.1, affine=True, track_running_stats=True)\n",
      "      (relu): ReLU(inplace=True)\n",
      "      (downsample): Sequential(\n",
      "        (0): Conv2d(512, 1024, kernel_size=(1, 1), stride=(2, 2), bias=False)\n",
      "        (1): BatchNorm2d(1024, eps=1e-05, momentum=0.1, affine=True, track_running_stats=True)\n",
      "      )\n",
      "    )\n",
      "    (1): Bottleneck(\n",
      "      (conv1): Conv2d(1024, 256, kernel_size=(1, 1), stride=(1, 1), bias=False)\n",
      "      (bn1): BatchNorm2d(256, eps=1e-05, momentum=0.1, affine=True, track_running_stats=True)\n",
      "      (conv2): Conv2d(256, 256, kernel_size=(3, 3), stride=(1, 1), padding=(1, 1), bias=False)\n",
      "      (bn2): BatchNorm2d(256, eps=1e-05, momentum=0.1, affine=True, track_running_stats=True)\n",
      "      (conv3): Conv2d(256, 1024, kernel_size=(1, 1), stride=(1, 1), bias=False)\n",
      "      (bn3): BatchNorm2d(1024, eps=1e-05, momentum=0.1, affine=True, track_running_stats=True)\n",
      "      (relu): ReLU(inplace=True)\n",
      "    )\n",
      "    (2): Bottleneck(\n",
      "      (conv1): Conv2d(1024, 256, kernel_size=(1, 1), stride=(1, 1), bias=False)\n",
      "      (bn1): BatchNorm2d(256, eps=1e-05, momentum=0.1, affine=True, track_running_stats=True)\n",
      "      (conv2): Conv2d(256, 256, kernel_size=(3, 3), stride=(1, 1), padding=(1, 1), bias=False)\n",
      "      (bn2): BatchNorm2d(256, eps=1e-05, momentum=0.1, affine=True, track_running_stats=True)\n",
      "      (conv3): Conv2d(256, 1024, kernel_size=(1, 1), stride=(1, 1), bias=False)\n",
      "      (bn3): BatchNorm2d(1024, eps=1e-05, momentum=0.1, affine=True, track_running_stats=True)\n",
      "      (relu): ReLU(inplace=True)\n",
      "    )\n",
      "    (3): Bottleneck(\n",
      "      (conv1): Conv2d(1024, 256, kernel_size=(1, 1), stride=(1, 1), bias=False)\n",
      "      (bn1): BatchNorm2d(256, eps=1e-05, momentum=0.1, affine=True, track_running_stats=True)\n",
      "      (conv2): Conv2d(256, 256, kernel_size=(3, 3), stride=(1, 1), padding=(1, 1), bias=False)\n",
      "      (bn2): BatchNorm2d(256, eps=1e-05, momentum=0.1, affine=True, track_running_stats=True)\n",
      "      (conv3): Conv2d(256, 1024, kernel_size=(1, 1), stride=(1, 1), bias=False)\n",
      "      (bn3): BatchNorm2d(1024, eps=1e-05, momentum=0.1, affine=True, track_running_stats=True)\n",
      "      (relu): ReLU(inplace=True)\n",
      "    )\n",
      "    (4): Bottleneck(\n",
      "      (conv1): Conv2d(1024, 256, kernel_size=(1, 1), stride=(1, 1), bias=False)\n",
      "      (bn1): BatchNorm2d(256, eps=1e-05, momentum=0.1, affine=True, track_running_stats=True)\n",
      "      (conv2): Conv2d(256, 256, kernel_size=(3, 3), stride=(1, 1), padding=(1, 1), bias=False)\n",
      "      (bn2): BatchNorm2d(256, eps=1e-05, momentum=0.1, affine=True, track_running_stats=True)\n",
      "      (conv3): Conv2d(256, 1024, kernel_size=(1, 1), stride=(1, 1), bias=False)\n",
      "      (bn3): BatchNorm2d(1024, eps=1e-05, momentum=0.1, affine=True, track_running_stats=True)\n",
      "      (relu): ReLU(inplace=True)\n",
      "    )\n",
      "    (5): Bottleneck(\n",
      "      (conv1): Conv2d(1024, 256, kernel_size=(1, 1), stride=(1, 1), bias=False)\n",
      "      (bn1): BatchNorm2d(256, eps=1e-05, momentum=0.1, affine=True, track_running_stats=True)\n",
      "      (conv2): Conv2d(256, 256, kernel_size=(3, 3), stride=(1, 1), padding=(1, 1), bias=False)\n",
      "      (bn2): BatchNorm2d(256, eps=1e-05, momentum=0.1, affine=True, track_running_stats=True)\n",
      "      (conv3): Conv2d(256, 1024, kernel_size=(1, 1), stride=(1, 1), bias=False)\n",
      "      (bn3): BatchNorm2d(1024, eps=1e-05, momentum=0.1, affine=True, track_running_stats=True)\n",
      "      (relu): ReLU(inplace=True)\n",
      "    )\n",
      "  )\n",
      "  (layer4): Sequential(\n",
      "    (0): Bottleneck(\n",
      "      (conv1): Conv2d(1024, 512, kernel_size=(1, 1), stride=(1, 1), bias=False)\n",
      "      (bn1): BatchNorm2d(512, eps=1e-05, momentum=0.1, affine=True, track_running_stats=True)\n",
      "      (conv2): Conv2d(512, 512, kernel_size=(3, 3), stride=(2, 2), padding=(1, 1), bias=False)\n",
      "      (bn2): BatchNorm2d(512, eps=1e-05, momentum=0.1, affine=True, track_running_stats=True)\n",
      "      (conv3): Conv2d(512, 2048, kernel_size=(1, 1), stride=(1, 1), bias=False)\n",
      "      (bn3): BatchNorm2d(2048, eps=1e-05, momentum=0.1, affine=True, track_running_stats=True)\n",
      "      (relu): ReLU(inplace=True)\n",
      "      (downsample): Sequential(\n",
      "        (0): Conv2d(1024, 2048, kernel_size=(1, 1), stride=(2, 2), bias=False)\n",
      "        (1): BatchNorm2d(2048, eps=1e-05, momentum=0.1, affine=True, track_running_stats=True)\n",
      "      )\n",
      "    )\n",
      "    (1): Bottleneck(\n",
      "      (conv1): Conv2d(2048, 512, kernel_size=(1, 1), stride=(1, 1), bias=False)\n",
      "      (bn1): BatchNorm2d(512, eps=1e-05, momentum=0.1, affine=True, track_running_stats=True)\n",
      "      (conv2): Conv2d(512, 512, kernel_size=(3, 3), stride=(1, 1), padding=(1, 1), bias=False)\n",
      "      (bn2): BatchNorm2d(512, eps=1e-05, momentum=0.1, affine=True, track_running_stats=True)\n",
      "      (conv3): Conv2d(512, 2048, kernel_size=(1, 1), stride=(1, 1), bias=False)\n",
      "      (bn3): BatchNorm2d(2048, eps=1e-05, momentum=0.1, affine=True, track_running_stats=True)\n",
      "      (relu): ReLU(inplace=True)\n",
      "    )\n",
      "    (2): Bottleneck(\n",
      "      (conv1): Conv2d(2048, 512, kernel_size=(1, 1), stride=(1, 1), bias=False)\n",
      "      (bn1): BatchNorm2d(512, eps=1e-05, momentum=0.1, affine=True, track_running_stats=True)\n",
      "      (conv2): Conv2d(512, 512, kernel_size=(3, 3), stride=(1, 1), padding=(1, 1), bias=False)\n",
      "      (bn2): BatchNorm2d(512, eps=1e-05, momentum=0.1, affine=True, track_running_stats=True)\n",
      "      (conv3): Conv2d(512, 2048, kernel_size=(1, 1), stride=(1, 1), bias=False)\n",
      "      (bn3): BatchNorm2d(2048, eps=1e-05, momentum=0.1, affine=True, track_running_stats=True)\n",
      "      (relu): ReLU(inplace=True)\n",
      "    )\n",
      "  )\n",
      "  (avgpool): AdaptiveAvgPool2d(output_size=1)\n",
      "  (fc): Linear(in_features=2048, out_features=10, bias=True)\n",
      ")\n"
     ]
    }
   ],
   "source": [
    "net50 = resnet50(NUM_CLASSES, GRAYSCALE)\n",
    "net50 = net50.to(device)\n",
    "print(net50)"
   ]
  },
  {
   "cell_type": "code",
   "execution_count": 22,
   "metadata": {
    "colab": {
     "base_uri": "https://localhost:8080/"
    },
    "id": "LTfHuhJgU_Av",
    "outputId": "5d57dda0-a007-4a43-9d8a-d3fabe5d966a"
   },
   "outputs": [
    {
     "name": "stdout",
     "output_type": "stream",
     "text": [
      "ResNet(\n",
      "  (conv1): Conv2d(1, 64, kernel_size=(7, 7), stride=(2, 2), padding=(3, 3), bias=False)\n",
      "  (bn1): BatchNorm2d(64, eps=1e-05, momentum=0.1, affine=True, track_running_stats=True)\n",
      "  (relu): ReLU(inplace=True)\n",
      "  (maxpool): MaxPool2d(kernel_size=3, stride=2, padding=1, dilation=1, ceil_mode=False)\n",
      "  (layer1): Sequential(\n",
      "    (0): Bottleneck(\n",
      "      (conv1): Conv2d(64, 64, kernel_size=(1, 1), stride=(1, 1), bias=False)\n",
      "      (bn1): BatchNorm2d(64, eps=1e-05, momentum=0.1, affine=True, track_running_stats=True)\n",
      "      (conv2): Conv2d(64, 64, kernel_size=(3, 3), stride=(1, 1), padding=(1, 1), bias=False)\n",
      "      (bn2): BatchNorm2d(64, eps=1e-05, momentum=0.1, affine=True, track_running_stats=True)\n",
      "      (conv3): Conv2d(64, 256, kernel_size=(1, 1), stride=(1, 1), bias=False)\n",
      "      (bn3): BatchNorm2d(256, eps=1e-05, momentum=0.1, affine=True, track_running_stats=True)\n",
      "      (relu): ReLU(inplace=True)\n",
      "      (downsample): Sequential(\n",
      "        (0): Conv2d(64, 256, kernel_size=(1, 1), stride=(1, 1), bias=False)\n",
      "        (1): BatchNorm2d(256, eps=1e-05, momentum=0.1, affine=True, track_running_stats=True)\n",
      "      )\n",
      "    )\n",
      "    (1): Bottleneck(\n",
      "      (conv1): Conv2d(256, 64, kernel_size=(1, 1), stride=(1, 1), bias=False)\n",
      "      (bn1): BatchNorm2d(64, eps=1e-05, momentum=0.1, affine=True, track_running_stats=True)\n",
      "      (conv2): Conv2d(64, 64, kernel_size=(3, 3), stride=(1, 1), padding=(1, 1), bias=False)\n",
      "      (bn2): BatchNorm2d(64, eps=1e-05, momentum=0.1, affine=True, track_running_stats=True)\n",
      "      (conv3): Conv2d(64, 256, kernel_size=(1, 1), stride=(1, 1), bias=False)\n",
      "      (bn3): BatchNorm2d(256, eps=1e-05, momentum=0.1, affine=True, track_running_stats=True)\n",
      "      (relu): ReLU(inplace=True)\n",
      "    )\n",
      "    (2): Bottleneck(\n",
      "      (conv1): Conv2d(256, 64, kernel_size=(1, 1), stride=(1, 1), bias=False)\n",
      "      (bn1): BatchNorm2d(64, eps=1e-05, momentum=0.1, affine=True, track_running_stats=True)\n",
      "      (conv2): Conv2d(64, 64, kernel_size=(3, 3), stride=(1, 1), padding=(1, 1), bias=False)\n",
      "      (bn2): BatchNorm2d(64, eps=1e-05, momentum=0.1, affine=True, track_running_stats=True)\n",
      "      (conv3): Conv2d(64, 256, kernel_size=(1, 1), stride=(1, 1), bias=False)\n",
      "      (bn3): BatchNorm2d(256, eps=1e-05, momentum=0.1, affine=True, track_running_stats=True)\n",
      "      (relu): ReLU(inplace=True)\n",
      "    )\n",
      "  )\n",
      "  (layer2): Sequential(\n",
      "    (0): Bottleneck(\n",
      "      (conv1): Conv2d(256, 128, kernel_size=(1, 1), stride=(1, 1), bias=False)\n",
      "      (bn1): BatchNorm2d(128, eps=1e-05, momentum=0.1, affine=True, track_running_stats=True)\n",
      "      (conv2): Conv2d(128, 128, kernel_size=(3, 3), stride=(2, 2), padding=(1, 1), bias=False)\n",
      "      (bn2): BatchNorm2d(128, eps=1e-05, momentum=0.1, affine=True, track_running_stats=True)\n",
      "      (conv3): Conv2d(128, 512, kernel_size=(1, 1), stride=(1, 1), bias=False)\n",
      "      (bn3): BatchNorm2d(512, eps=1e-05, momentum=0.1, affine=True, track_running_stats=True)\n",
      "      (relu): ReLU(inplace=True)\n",
      "      (downsample): Sequential(\n",
      "        (0): Conv2d(256, 512, kernel_size=(1, 1), stride=(2, 2), bias=False)\n",
      "        (1): BatchNorm2d(512, eps=1e-05, momentum=0.1, affine=True, track_running_stats=True)\n",
      "      )\n",
      "    )\n",
      "    (1): Bottleneck(\n",
      "      (conv1): Conv2d(512, 128, kernel_size=(1, 1), stride=(1, 1), bias=False)\n",
      "      (bn1): BatchNorm2d(128, eps=1e-05, momentum=0.1, affine=True, track_running_stats=True)\n",
      "      (conv2): Conv2d(128, 128, kernel_size=(3, 3), stride=(1, 1), padding=(1, 1), bias=False)\n",
      "      (bn2): BatchNorm2d(128, eps=1e-05, momentum=0.1, affine=True, track_running_stats=True)\n",
      "      (conv3): Conv2d(128, 512, kernel_size=(1, 1), stride=(1, 1), bias=False)\n",
      "      (bn3): BatchNorm2d(512, eps=1e-05, momentum=0.1, affine=True, track_running_stats=True)\n",
      "      (relu): ReLU(inplace=True)\n",
      "    )\n",
      "    (2): Bottleneck(\n",
      "      (conv1): Conv2d(512, 128, kernel_size=(1, 1), stride=(1, 1), bias=False)\n",
      "      (bn1): BatchNorm2d(128, eps=1e-05, momentum=0.1, affine=True, track_running_stats=True)\n",
      "      (conv2): Conv2d(128, 128, kernel_size=(3, 3), stride=(1, 1), padding=(1, 1), bias=False)\n",
      "      (bn2): BatchNorm2d(128, eps=1e-05, momentum=0.1, affine=True, track_running_stats=True)\n",
      "      (conv3): Conv2d(128, 512, kernel_size=(1, 1), stride=(1, 1), bias=False)\n",
      "      (bn3): BatchNorm2d(512, eps=1e-05, momentum=0.1, affine=True, track_running_stats=True)\n",
      "      (relu): ReLU(inplace=True)\n",
      "    )\n",
      "    (3): Bottleneck(\n",
      "      (conv1): Conv2d(512, 128, kernel_size=(1, 1), stride=(1, 1), bias=False)\n",
      "      (bn1): BatchNorm2d(128, eps=1e-05, momentum=0.1, affine=True, track_running_stats=True)\n",
      "      (conv2): Conv2d(128, 128, kernel_size=(3, 3), stride=(1, 1), padding=(1, 1), bias=False)\n",
      "      (bn2): BatchNorm2d(128, eps=1e-05, momentum=0.1, affine=True, track_running_stats=True)\n",
      "      (conv3): Conv2d(128, 512, kernel_size=(1, 1), stride=(1, 1), bias=False)\n",
      "      (bn3): BatchNorm2d(512, eps=1e-05, momentum=0.1, affine=True, track_running_stats=True)\n",
      "      (relu): ReLU(inplace=True)\n",
      "    )\n",
      "  )\n",
      "  (layer3): Sequential(\n",
      "    (0): Bottleneck(\n",
      "      (conv1): Conv2d(512, 256, kernel_size=(1, 1), stride=(1, 1), bias=False)\n",
      "      (bn1): BatchNorm2d(256, eps=1e-05, momentum=0.1, affine=True, track_running_stats=True)\n",
      "      (conv2): Conv2d(256, 256, kernel_size=(3, 3), stride=(2, 2), padding=(1, 1), bias=False)\n",
      "      (bn2): BatchNorm2d(256, eps=1e-05, momentum=0.1, affine=True, track_running_stats=True)\n",
      "      (conv3): Conv2d(256, 1024, kernel_size=(1, 1), stride=(1, 1), bias=False)\n",
      "      (bn3): BatchNorm2d(1024, eps=1e-05, momentum=0.1, affine=True, track_running_stats=True)\n",
      "      (relu): ReLU(inplace=True)\n",
      "      (downsample): Sequential(\n",
      "        (0): Conv2d(512, 1024, kernel_size=(1, 1), stride=(2, 2), bias=False)\n",
      "        (1): BatchNorm2d(1024, eps=1e-05, momentum=0.1, affine=True, track_running_stats=True)\n",
      "      )\n",
      "    )\n",
      "    (1): Bottleneck(\n",
      "      (conv1): Conv2d(1024, 256, kernel_size=(1, 1), stride=(1, 1), bias=False)\n",
      "      (bn1): BatchNorm2d(256, eps=1e-05, momentum=0.1, affine=True, track_running_stats=True)\n",
      "      (conv2): Conv2d(256, 256, kernel_size=(3, 3), stride=(1, 1), padding=(1, 1), bias=False)\n",
      "      (bn2): BatchNorm2d(256, eps=1e-05, momentum=0.1, affine=True, track_running_stats=True)\n",
      "      (conv3): Conv2d(256, 1024, kernel_size=(1, 1), stride=(1, 1), bias=False)\n",
      "      (bn3): BatchNorm2d(1024, eps=1e-05, momentum=0.1, affine=True, track_running_stats=True)\n",
      "      (relu): ReLU(inplace=True)\n",
      "    )\n",
      "    (2): Bottleneck(\n",
      "      (conv1): Conv2d(1024, 256, kernel_size=(1, 1), stride=(1, 1), bias=False)\n",
      "      (bn1): BatchNorm2d(256, eps=1e-05, momentum=0.1, affine=True, track_running_stats=True)\n",
      "      (conv2): Conv2d(256, 256, kernel_size=(3, 3), stride=(1, 1), padding=(1, 1), bias=False)\n",
      "      (bn2): BatchNorm2d(256, eps=1e-05, momentum=0.1, affine=True, track_running_stats=True)\n",
      "      (conv3): Conv2d(256, 1024, kernel_size=(1, 1), stride=(1, 1), bias=False)\n",
      "      (bn3): BatchNorm2d(1024, eps=1e-05, momentum=0.1, affine=True, track_running_stats=True)\n",
      "      (relu): ReLU(inplace=True)\n",
      "    )\n",
      "    (3): Bottleneck(\n",
      "      (conv1): Conv2d(1024, 256, kernel_size=(1, 1), stride=(1, 1), bias=False)\n",
      "      (bn1): BatchNorm2d(256, eps=1e-05, momentum=0.1, affine=True, track_running_stats=True)\n",
      "      (conv2): Conv2d(256, 256, kernel_size=(3, 3), stride=(1, 1), padding=(1, 1), bias=False)\n",
      "      (bn2): BatchNorm2d(256, eps=1e-05, momentum=0.1, affine=True, track_running_stats=True)\n",
      "      (conv3): Conv2d(256, 1024, kernel_size=(1, 1), stride=(1, 1), bias=False)\n",
      "      (bn3): BatchNorm2d(1024, eps=1e-05, momentum=0.1, affine=True, track_running_stats=True)\n",
      "      (relu): ReLU(inplace=True)\n",
      "    )\n",
      "    (4): Bottleneck(\n",
      "      (conv1): Conv2d(1024, 256, kernel_size=(1, 1), stride=(1, 1), bias=False)\n",
      "      (bn1): BatchNorm2d(256, eps=1e-05, momentum=0.1, affine=True, track_running_stats=True)\n",
      "      (conv2): Conv2d(256, 256, kernel_size=(3, 3), stride=(1, 1), padding=(1, 1), bias=False)\n",
      "      (bn2): BatchNorm2d(256, eps=1e-05, momentum=0.1, affine=True, track_running_stats=True)\n",
      "      (conv3): Conv2d(256, 1024, kernel_size=(1, 1), stride=(1, 1), bias=False)\n",
      "      (bn3): BatchNorm2d(1024, eps=1e-05, momentum=0.1, affine=True, track_running_stats=True)\n",
      "      (relu): ReLU(inplace=True)\n",
      "    )\n",
      "    (5): Bottleneck(\n",
      "      (conv1): Conv2d(1024, 256, kernel_size=(1, 1), stride=(1, 1), bias=False)\n",
      "      (bn1): BatchNorm2d(256, eps=1e-05, momentum=0.1, affine=True, track_running_stats=True)\n",
      "      (conv2): Conv2d(256, 256, kernel_size=(3, 3), stride=(1, 1), padding=(1, 1), bias=False)\n",
      "      (bn2): BatchNorm2d(256, eps=1e-05, momentum=0.1, affine=True, track_running_stats=True)\n",
      "      (conv3): Conv2d(256, 1024, kernel_size=(1, 1), stride=(1, 1), bias=False)\n",
      "      (bn3): BatchNorm2d(1024, eps=1e-05, momentum=0.1, affine=True, track_running_stats=True)\n",
      "      (relu): ReLU(inplace=True)\n",
      "    )\n",
      "    (6): Bottleneck(\n",
      "      (conv1): Conv2d(1024, 256, kernel_size=(1, 1), stride=(1, 1), bias=False)\n",
      "      (bn1): BatchNorm2d(256, eps=1e-05, momentum=0.1, affine=True, track_running_stats=True)\n",
      "      (conv2): Conv2d(256, 256, kernel_size=(3, 3), stride=(1, 1), padding=(1, 1), bias=False)\n",
      "      (bn2): BatchNorm2d(256, eps=1e-05, momentum=0.1, affine=True, track_running_stats=True)\n",
      "      (conv3): Conv2d(256, 1024, kernel_size=(1, 1), stride=(1, 1), bias=False)\n",
      "      (bn3): BatchNorm2d(1024, eps=1e-05, momentum=0.1, affine=True, track_running_stats=True)\n",
      "      (relu): ReLU(inplace=True)\n",
      "    )\n",
      "    (7): Bottleneck(\n",
      "      (conv1): Conv2d(1024, 256, kernel_size=(1, 1), stride=(1, 1), bias=False)\n",
      "      (bn1): BatchNorm2d(256, eps=1e-05, momentum=0.1, affine=True, track_running_stats=True)\n",
      "      (conv2): Conv2d(256, 256, kernel_size=(3, 3), stride=(1, 1), padding=(1, 1), bias=False)\n",
      "      (bn2): BatchNorm2d(256, eps=1e-05, momentum=0.1, affine=True, track_running_stats=True)\n",
      "      (conv3): Conv2d(256, 1024, kernel_size=(1, 1), stride=(1, 1), bias=False)\n",
      "      (bn3): BatchNorm2d(1024, eps=1e-05, momentum=0.1, affine=True, track_running_stats=True)\n",
      "      (relu): ReLU(inplace=True)\n",
      "    )\n",
      "    (8): Bottleneck(\n",
      "      (conv1): Conv2d(1024, 256, kernel_size=(1, 1), stride=(1, 1), bias=False)\n",
      "      (bn1): BatchNorm2d(256, eps=1e-05, momentum=0.1, affine=True, track_running_stats=True)\n",
      "      (conv2): Conv2d(256, 256, kernel_size=(3, 3), stride=(1, 1), padding=(1, 1), bias=False)\n",
      "      (bn2): BatchNorm2d(256, eps=1e-05, momentum=0.1, affine=True, track_running_stats=True)\n",
      "      (conv3): Conv2d(256, 1024, kernel_size=(1, 1), stride=(1, 1), bias=False)\n",
      "      (bn3): BatchNorm2d(1024, eps=1e-05, momentum=0.1, affine=True, track_running_stats=True)\n",
      "      (relu): ReLU(inplace=True)\n",
      "    )\n",
      "    (9): Bottleneck(\n",
      "      (conv1): Conv2d(1024, 256, kernel_size=(1, 1), stride=(1, 1), bias=False)\n",
      "      (bn1): BatchNorm2d(256, eps=1e-05, momentum=0.1, affine=True, track_running_stats=True)\n",
      "      (conv2): Conv2d(256, 256, kernel_size=(3, 3), stride=(1, 1), padding=(1, 1), bias=False)\n",
      "      (bn2): BatchNorm2d(256, eps=1e-05, momentum=0.1, affine=True, track_running_stats=True)\n",
      "      (conv3): Conv2d(256, 1024, kernel_size=(1, 1), stride=(1, 1), bias=False)\n",
      "      (bn3): BatchNorm2d(1024, eps=1e-05, momentum=0.1, affine=True, track_running_stats=True)\n",
      "      (relu): ReLU(inplace=True)\n",
      "    )\n",
      "    (10): Bottleneck(\n",
      "      (conv1): Conv2d(1024, 256, kernel_size=(1, 1), stride=(1, 1), bias=False)\n",
      "      (bn1): BatchNorm2d(256, eps=1e-05, momentum=0.1, affine=True, track_running_stats=True)\n",
      "      (conv2): Conv2d(256, 256, kernel_size=(3, 3), stride=(1, 1), padding=(1, 1), bias=False)\n",
      "      (bn2): BatchNorm2d(256, eps=1e-05, momentum=0.1, affine=True, track_running_stats=True)\n",
      "      (conv3): Conv2d(256, 1024, kernel_size=(1, 1), stride=(1, 1), bias=False)\n",
      "      (bn3): BatchNorm2d(1024, eps=1e-05, momentum=0.1, affine=True, track_running_stats=True)\n",
      "      (relu): ReLU(inplace=True)\n",
      "    )\n",
      "    (11): Bottleneck(\n",
      "      (conv1): Conv2d(1024, 256, kernel_size=(1, 1), stride=(1, 1), bias=False)\n",
      "      (bn1): BatchNorm2d(256, eps=1e-05, momentum=0.1, affine=True, track_running_stats=True)\n",
      "      (conv2): Conv2d(256, 256, kernel_size=(3, 3), stride=(1, 1), padding=(1, 1), bias=False)\n",
      "      (bn2): BatchNorm2d(256, eps=1e-05, momentum=0.1, affine=True, track_running_stats=True)\n",
      "      (conv3): Conv2d(256, 1024, kernel_size=(1, 1), stride=(1, 1), bias=False)\n",
      "      (bn3): BatchNorm2d(1024, eps=1e-05, momentum=0.1, affine=True, track_running_stats=True)\n",
      "      (relu): ReLU(inplace=True)\n",
      "    )\n",
      "    (12): Bottleneck(\n",
      "      (conv1): Conv2d(1024, 256, kernel_size=(1, 1), stride=(1, 1), bias=False)\n",
      "      (bn1): BatchNorm2d(256, eps=1e-05, momentum=0.1, affine=True, track_running_stats=True)\n",
      "      (conv2): Conv2d(256, 256, kernel_size=(3, 3), stride=(1, 1), padding=(1, 1), bias=False)\n",
      "      (bn2): BatchNorm2d(256, eps=1e-05, momentum=0.1, affine=True, track_running_stats=True)\n",
      "      (conv3): Conv2d(256, 1024, kernel_size=(1, 1), stride=(1, 1), bias=False)\n",
      "      (bn3): BatchNorm2d(1024, eps=1e-05, momentum=0.1, affine=True, track_running_stats=True)\n",
      "      (relu): ReLU(inplace=True)\n",
      "    )\n",
      "    (13): Bottleneck(\n",
      "      (conv1): Conv2d(1024, 256, kernel_size=(1, 1), stride=(1, 1), bias=False)\n",
      "      (bn1): BatchNorm2d(256, eps=1e-05, momentum=0.1, affine=True, track_running_stats=True)\n",
      "      (conv2): Conv2d(256, 256, kernel_size=(3, 3), stride=(1, 1), padding=(1, 1), bias=False)\n",
      "      (bn2): BatchNorm2d(256, eps=1e-05, momentum=0.1, affine=True, track_running_stats=True)\n",
      "      (conv3): Conv2d(256, 1024, kernel_size=(1, 1), stride=(1, 1), bias=False)\n",
      "      (bn3): BatchNorm2d(1024, eps=1e-05, momentum=0.1, affine=True, track_running_stats=True)\n",
      "      (relu): ReLU(inplace=True)\n",
      "    )\n",
      "    (14): Bottleneck(\n",
      "      (conv1): Conv2d(1024, 256, kernel_size=(1, 1), stride=(1, 1), bias=False)\n",
      "      (bn1): BatchNorm2d(256, eps=1e-05, momentum=0.1, affine=True, track_running_stats=True)\n",
      "      (conv2): Conv2d(256, 256, kernel_size=(3, 3), stride=(1, 1), padding=(1, 1), bias=False)\n",
      "      (bn2): BatchNorm2d(256, eps=1e-05, momentum=0.1, affine=True, track_running_stats=True)\n",
      "      (conv3): Conv2d(256, 1024, kernel_size=(1, 1), stride=(1, 1), bias=False)\n",
      "      (bn3): BatchNorm2d(1024, eps=1e-05, momentum=0.1, affine=True, track_running_stats=True)\n",
      "      (relu): ReLU(inplace=True)\n",
      "    )\n",
      "    (15): Bottleneck(\n",
      "      (conv1): Conv2d(1024, 256, kernel_size=(1, 1), stride=(1, 1), bias=False)\n",
      "      (bn1): BatchNorm2d(256, eps=1e-05, momentum=0.1, affine=True, track_running_stats=True)\n",
      "      (conv2): Conv2d(256, 256, kernel_size=(3, 3), stride=(1, 1), padding=(1, 1), bias=False)\n",
      "      (bn2): BatchNorm2d(256, eps=1e-05, momentum=0.1, affine=True, track_running_stats=True)\n",
      "      (conv3): Conv2d(256, 1024, kernel_size=(1, 1), stride=(1, 1), bias=False)\n",
      "      (bn3): BatchNorm2d(1024, eps=1e-05, momentum=0.1, affine=True, track_running_stats=True)\n",
      "      (relu): ReLU(inplace=True)\n",
      "    )\n",
      "    (16): Bottleneck(\n",
      "      (conv1): Conv2d(1024, 256, kernel_size=(1, 1), stride=(1, 1), bias=False)\n",
      "      (bn1): BatchNorm2d(256, eps=1e-05, momentum=0.1, affine=True, track_running_stats=True)\n",
      "      (conv2): Conv2d(256, 256, kernel_size=(3, 3), stride=(1, 1), padding=(1, 1), bias=False)\n",
      "      (bn2): BatchNorm2d(256, eps=1e-05, momentum=0.1, affine=True, track_running_stats=True)\n",
      "      (conv3): Conv2d(256, 1024, kernel_size=(1, 1), stride=(1, 1), bias=False)\n",
      "      (bn3): BatchNorm2d(1024, eps=1e-05, momentum=0.1, affine=True, track_running_stats=True)\n",
      "      (relu): ReLU(inplace=True)\n",
      "    )\n",
      "    (17): Bottleneck(\n",
      "      (conv1): Conv2d(1024, 256, kernel_size=(1, 1), stride=(1, 1), bias=False)\n",
      "      (bn1): BatchNorm2d(256, eps=1e-05, momentum=0.1, affine=True, track_running_stats=True)\n",
      "      (conv2): Conv2d(256, 256, kernel_size=(3, 3), stride=(1, 1), padding=(1, 1), bias=False)\n",
      "      (bn2): BatchNorm2d(256, eps=1e-05, momentum=0.1, affine=True, track_running_stats=True)\n",
      "      (conv3): Conv2d(256, 1024, kernel_size=(1, 1), stride=(1, 1), bias=False)\n",
      "      (bn3): BatchNorm2d(1024, eps=1e-05, momentum=0.1, affine=True, track_running_stats=True)\n",
      "      (relu): ReLU(inplace=True)\n",
      "    )\n",
      "    (18): Bottleneck(\n",
      "      (conv1): Conv2d(1024, 256, kernel_size=(1, 1), stride=(1, 1), bias=False)\n",
      "      (bn1): BatchNorm2d(256, eps=1e-05, momentum=0.1, affine=True, track_running_stats=True)\n",
      "      (conv2): Conv2d(256, 256, kernel_size=(3, 3), stride=(1, 1), padding=(1, 1), bias=False)\n",
      "      (bn2): BatchNorm2d(256, eps=1e-05, momentum=0.1, affine=True, track_running_stats=True)\n",
      "      (conv3): Conv2d(256, 1024, kernel_size=(1, 1), stride=(1, 1), bias=False)\n",
      "      (bn3): BatchNorm2d(1024, eps=1e-05, momentum=0.1, affine=True, track_running_stats=True)\n",
      "      (relu): ReLU(inplace=True)\n",
      "    )\n",
      "    (19): Bottleneck(\n",
      "      (conv1): Conv2d(1024, 256, kernel_size=(1, 1), stride=(1, 1), bias=False)\n",
      "      (bn1): BatchNorm2d(256, eps=1e-05, momentum=0.1, affine=True, track_running_stats=True)\n",
      "      (conv2): Conv2d(256, 256, kernel_size=(3, 3), stride=(1, 1), padding=(1, 1), bias=False)\n",
      "      (bn2): BatchNorm2d(256, eps=1e-05, momentum=0.1, affine=True, track_running_stats=True)\n",
      "      (conv3): Conv2d(256, 1024, kernel_size=(1, 1), stride=(1, 1), bias=False)\n",
      "      (bn3): BatchNorm2d(1024, eps=1e-05, momentum=0.1, affine=True, track_running_stats=True)\n",
      "      (relu): ReLU(inplace=True)\n",
      "    )\n",
      "    (20): Bottleneck(\n",
      "      (conv1): Conv2d(1024, 256, kernel_size=(1, 1), stride=(1, 1), bias=False)\n",
      "      (bn1): BatchNorm2d(256, eps=1e-05, momentum=0.1, affine=True, track_running_stats=True)\n",
      "      (conv2): Conv2d(256, 256, kernel_size=(3, 3), stride=(1, 1), padding=(1, 1), bias=False)\n",
      "      (bn2): BatchNorm2d(256, eps=1e-05, momentum=0.1, affine=True, track_running_stats=True)\n",
      "      (conv3): Conv2d(256, 1024, kernel_size=(1, 1), stride=(1, 1), bias=False)\n",
      "      (bn3): BatchNorm2d(1024, eps=1e-05, momentum=0.1, affine=True, track_running_stats=True)\n",
      "      (relu): ReLU(inplace=True)\n",
      "    )\n",
      "    (21): Bottleneck(\n",
      "      (conv1): Conv2d(1024, 256, kernel_size=(1, 1), stride=(1, 1), bias=False)\n",
      "      (bn1): BatchNorm2d(256, eps=1e-05, momentum=0.1, affine=True, track_running_stats=True)\n",
      "      (conv2): Conv2d(256, 256, kernel_size=(3, 3), stride=(1, 1), padding=(1, 1), bias=False)\n",
      "      (bn2): BatchNorm2d(256, eps=1e-05, momentum=0.1, affine=True, track_running_stats=True)\n",
      "      (conv3): Conv2d(256, 1024, kernel_size=(1, 1), stride=(1, 1), bias=False)\n",
      "      (bn3): BatchNorm2d(1024, eps=1e-05, momentum=0.1, affine=True, track_running_stats=True)\n",
      "      (relu): ReLU(inplace=True)\n",
      "    )\n",
      "    (22): Bottleneck(\n",
      "      (conv1): Conv2d(1024, 256, kernel_size=(1, 1), stride=(1, 1), bias=False)\n",
      "      (bn1): BatchNorm2d(256, eps=1e-05, momentum=0.1, affine=True, track_running_stats=True)\n",
      "      (conv2): Conv2d(256, 256, kernel_size=(3, 3), stride=(1, 1), padding=(1, 1), bias=False)\n",
      "      (bn2): BatchNorm2d(256, eps=1e-05, momentum=0.1, affine=True, track_running_stats=True)\n",
      "      (conv3): Conv2d(256, 1024, kernel_size=(1, 1), stride=(1, 1), bias=False)\n",
      "      (bn3): BatchNorm2d(1024, eps=1e-05, momentum=0.1, affine=True, track_running_stats=True)\n",
      "      (relu): ReLU(inplace=True)\n",
      "    )\n",
      "  )\n",
      "  (layer4): Sequential(\n",
      "    (0): Bottleneck(\n",
      "      (conv1): Conv2d(1024, 512, kernel_size=(1, 1), stride=(1, 1), bias=False)\n",
      "      (bn1): BatchNorm2d(512, eps=1e-05, momentum=0.1, affine=True, track_running_stats=True)\n",
      "      (conv2): Conv2d(512, 512, kernel_size=(3, 3), stride=(2, 2), padding=(1, 1), bias=False)\n",
      "      (bn2): BatchNorm2d(512, eps=1e-05, momentum=0.1, affine=True, track_running_stats=True)\n",
      "      (conv3): Conv2d(512, 2048, kernel_size=(1, 1), stride=(1, 1), bias=False)\n",
      "      (bn3): BatchNorm2d(2048, eps=1e-05, momentum=0.1, affine=True, track_running_stats=True)\n",
      "      (relu): ReLU(inplace=True)\n",
      "      (downsample): Sequential(\n",
      "        (0): Conv2d(1024, 2048, kernel_size=(1, 1), stride=(2, 2), bias=False)\n",
      "        (1): BatchNorm2d(2048, eps=1e-05, momentum=0.1, affine=True, track_running_stats=True)\n",
      "      )\n",
      "    )\n",
      "    (1): Bottleneck(\n",
      "      (conv1): Conv2d(2048, 512, kernel_size=(1, 1), stride=(1, 1), bias=False)\n",
      "      (bn1): BatchNorm2d(512, eps=1e-05, momentum=0.1, affine=True, track_running_stats=True)\n",
      "      (conv2): Conv2d(512, 512, kernel_size=(3, 3), stride=(1, 1), padding=(1, 1), bias=False)\n",
      "      (bn2): BatchNorm2d(512, eps=1e-05, momentum=0.1, affine=True, track_running_stats=True)\n",
      "      (conv3): Conv2d(512, 2048, kernel_size=(1, 1), stride=(1, 1), bias=False)\n",
      "      (bn3): BatchNorm2d(2048, eps=1e-05, momentum=0.1, affine=True, track_running_stats=True)\n",
      "      (relu): ReLU(inplace=True)\n",
      "    )\n",
      "    (2): Bottleneck(\n",
      "      (conv1): Conv2d(2048, 512, kernel_size=(1, 1), stride=(1, 1), bias=False)\n",
      "      (bn1): BatchNorm2d(512, eps=1e-05, momentum=0.1, affine=True, track_running_stats=True)\n",
      "      (conv2): Conv2d(512, 512, kernel_size=(3, 3), stride=(1, 1), padding=(1, 1), bias=False)\n",
      "      (bn2): BatchNorm2d(512, eps=1e-05, momentum=0.1, affine=True, track_running_stats=True)\n",
      "      (conv3): Conv2d(512, 2048, kernel_size=(1, 1), stride=(1, 1), bias=False)\n",
      "      (bn3): BatchNorm2d(2048, eps=1e-05, momentum=0.1, affine=True, track_running_stats=True)\n",
      "      (relu): ReLU(inplace=True)\n",
      "    )\n",
      "  )\n",
      "  (avgpool): AdaptiveAvgPool2d(output_size=1)\n",
      "  (fc): Linear(in_features=2048, out_features=10, bias=True)\n",
      ")\n"
     ]
    }
   ],
   "source": [
    "net101 = resnet101(NUM_CLASSES, GRAYSCALE)\n",
    "net101 = net101.to(device)\n",
    "print(net101)"
   ]
  },
  {
   "cell_type": "markdown",
   "metadata": {
    "id": "9NeUDk-1U_Av"
   },
   "source": [
    "### <a id=\"sec4-1\"></a>4.1.  Model training for three ResNets"
   ]
  },
  {
   "cell_type": "markdown",
   "metadata": {
    "id": "mJLxzssiU_Av"
   },
   "source": [
    "`Torch` provides loss functions and optimizers that we can use instead of writing our own. For now, we'll use the `torch.nn.CrossEntropyLoss` and `torch.optim.SGD` functions. Another alternative optimizer function is `torch.optim.Adam`. If you want, you can also change the comment line of the optimizer in the following code cells to see how the result will change.\n",
    "\n",
    "Let's first look at the loss when the model is trained for only **one epoch**. The hyperparameter `NUM_EPOCHS` has not been used in this part, and there is no loop about epoch."
   ]
  },
  {
   "cell_type": "code",
   "execution_count": 23,
   "metadata": {
    "id": "2uPTxgMbU_Aw"
   },
   "outputs": [],
   "source": [
    "def train(net):\n",
    "    criterion = nn.CrossEntropyLoss()\n",
    "    optimizer = torch.optim.SGD(net.parameters(), lr=0.001, momentum=0.9)\n",
    "    # optimizer = torch.optim.Adam(net.parameters())       # Alternative optimizer \"Adam\"\n",
    "    train_loss = 0.0\n",
    "    for i, data in enumerate(trainloader, 0):\n",
    "        # get the inputs; data is a list of [inputs, labels]\n",
    "        inputs, labels = data\n",
    "        inputs = inputs.to(device)\n",
    "        labels = labels.to(device)\n",
    "        # zero the parameter gradients\n",
    "        optimizer.zero_grad()\n",
    "        # forward + backward + optimize\n",
    "        outputs = net(inputs)\n",
    "        loss = criterion(outputs, labels)\n",
    "        loss.backward()\n",
    "        optimizer.step()\n",
    "        train_loss += loss.item()\n",
    "    return train_loss"
   ]
  },
  {
   "cell_type": "code",
   "execution_count": 24,
   "metadata": {
    "colab": {
     "base_uri": "https://localhost:8080/"
    },
    "id": "njaR0bb1U_Aw",
    "outputId": "b060369c-5c8e-4261-9f2b-1bc713b49217"
   },
   "outputs": [
    {
     "name": "stdout",
     "output_type": "stream",
     "text": [
      "CPU times: user 2.72 s, sys: 1.52 s, total: 4.24 s\n",
      "Wall time: 4.54 s\n",
      "train loss of ResNet-34 : 40.15110\n"
     ]
    }
   ],
   "source": [
    "%time train_loss_34 = train(net34)\n",
    "print('train loss of ResNet-34 : %0.5f' % (train_loss_34))"
   ]
  },
  {
   "cell_type": "code",
   "execution_count": 25,
   "metadata": {
    "colab": {
     "base_uri": "https://localhost:8080/"
    },
    "id": "HmyLqUGNU_Aw",
    "outputId": "b389d043-ea63-4422-84cc-86d720a3079a"
   },
   "outputs": [
    {
     "name": "stdout",
     "output_type": "stream",
     "text": [
      "CPU times: user 4.71 s, sys: 3.26 s, total: 7.97 s\n",
      "Wall time: 8.3 s\n",
      "train loss of ResNet-50 : 49.03495\n"
     ]
    }
   ],
   "source": [
    "%time train_loss_50 = train(net50)\n",
    "print('train loss of ResNet-50 : %0.5f' % (train_loss_50))"
   ]
  },
  {
   "cell_type": "code",
   "execution_count": 26,
   "metadata": {
    "colab": {
     "base_uri": "https://localhost:8080/"
    },
    "id": "7TilpDjHU_Ax",
    "outputId": "75350f0c-70fb-4df0-a413-3d8f812a41ae"
   },
   "outputs": [
    {
     "name": "stdout",
     "output_type": "stream",
     "text": [
      "CPU times: user 6.25 s, sys: 4.28 s, total: 10.5 s\n",
      "Wall time: 10.9 s\n",
      "train loss of ResNet-101 : 48.15834\n"
     ]
    }
   ],
   "source": [
    "%time train_loss_101 = train(net101)\n",
    "print('train loss of ResNet-101 : %0.5f' % (train_loss_101))"
   ]
  },
  {
   "cell_type": "markdown",
   "metadata": {
    "id": "FVGp1Ht_U_Ax"
   },
   "source": [
    "From the perspective of train loss, that of a single epoch is still quite large.\n",
    "\n",
    "To see how our network performs more preciously, we'll apply it to the validation set."
   ]
  },
  {
   "cell_type": "code",
   "execution_count": 27,
   "metadata": {
    "id": "iKAMYwEQU_Ax"
   },
   "outputs": [],
   "source": [
    "def get_valid_predictions(net):\n",
    "    all_labels = np.array([])\n",
    "    predictions = np.array([])\n",
    "    with torch.no_grad():\n",
    "        for data in validloader:\n",
    "            images, labels = data\n",
    "            images = images.to(device)\n",
    "            labels = labels.to(device)\n",
    "            outputs = net(images)\n",
    "            _, predicted = torch.max(outputs.data, 1)\n",
    "            all_labels = np.append(all_labels, labels.cpu().numpy())\n",
    "            predictions = np.append(predictions, predicted.cpu().numpy())\n",
    "    return all_labels, predictions"
   ]
  },
  {
   "cell_type": "code",
   "execution_count": 28,
   "metadata": {
    "id": "-SSOCYR9U_Ax"
   },
   "outputs": [],
   "source": [
    "from sklearn.metrics import accuracy_score, classification_report"
   ]
  },
  {
   "cell_type": "code",
   "execution_count": 29,
   "metadata": {
    "colab": {
     "base_uri": "https://localhost:8080/"
    },
    "id": "_Cg32lW-U_Ay",
    "outputId": "d692c472-2cdd-460f-d812-af4d31e079e1"
   },
   "outputs": [
    {
     "name": "stdout",
     "output_type": "stream",
     "text": [
      "ResNet-34 accuracy:  0.602\n",
      "              precision    recall  f1-score   support\n",
      "\n",
      " T-shirt/top       0.61      0.57      0.59       112\n",
      "     Trouser       0.87      0.83      0.85       109\n",
      "    Pullover       0.32      0.55      0.41        67\n",
      "       Dress       0.57      0.63      0.60        86\n",
      "        Coat       0.59      0.41      0.49       147\n",
      "      Sandal       0.57      0.49      0.53        87\n",
      "       Shirt       0.28      0.32      0.30        97\n",
      "     Sneaker       0.78      0.66      0.72       104\n",
      "         Bag       0.62      0.84      0.71        82\n",
      "  Ankle boot       0.90      0.76      0.83       109\n",
      "\n",
      "    accuracy                           0.60      1000\n",
      "   macro avg       0.61      0.61      0.60      1000\n",
      "weighted avg       0.63      0.60      0.61      1000\n",
      "\n"
     ]
    }
   ],
   "source": [
    "y_valid_34, predictions_34 = get_valid_predictions(net34)\n",
    "\n",
    "print('ResNet-34 accuracy: ', accuracy_score(predictions_34, y_valid_34))\n",
    "print(classification_report(predictions_34, y_valid_34, target_names=labels_text))"
   ]
  },
  {
   "cell_type": "code",
   "execution_count": 30,
   "metadata": {
    "colab": {
     "base_uri": "https://localhost:8080/"
    },
    "id": "LqTJjWLkU_Ay",
    "outputId": "7c7b50d7-68d3-4107-cc7e-7f254a66ece3"
   },
   "outputs": [
    {
     "name": "stdout",
     "output_type": "stream",
     "text": [
      "ResNet-50 accuracy:  0.19\n",
      "              precision    recall  f1-score   support\n",
      "\n",
      " T-shirt/top       0.13      0.16      0.15        88\n",
      "     Trouser       0.30      0.21      0.24       151\n",
      "    Pullover       0.13      0.22      0.16        69\n",
      "       Dress       0.19      0.25      0.22        72\n",
      "        Coat       0.15      0.19      0.17        85\n",
      "      Sandal       0.04      0.07      0.05        45\n",
      "       Shirt       0.12      0.11      0.12       114\n",
      "     Sneaker       0.16      0.25      0.20        55\n",
      "         Bag       0.23      0.16      0.19       160\n",
      "  Ankle boot       0.43      0.25      0.32       161\n",
      "\n",
      "    accuracy                           0.19      1000\n",
      "   macro avg       0.19      0.19      0.18      1000\n",
      "weighted avg       0.22      0.19      0.20      1000\n",
      "\n"
     ]
    }
   ],
   "source": [
    "y_valid_50, predictions_50 = get_valid_predictions(net50)\n",
    "\n",
    "print('ResNet-50 accuracy: ', accuracy_score(predictions_50, y_valid_50))\n",
    "print(classification_report(predictions_50, y_valid_50, target_names=labels_text))"
   ]
  },
  {
   "cell_type": "code",
   "execution_count": 31,
   "metadata": {
    "colab": {
     "base_uri": "https://localhost:8080/"
    },
    "id": "5kD2DSs9U_Ay",
    "outputId": "0292994b-7bdf-4fa7-b455-8fe9f5fe9f2a"
   },
   "outputs": [
    {
     "name": "stdout",
     "output_type": "stream",
     "text": [
      "ResNet-101 accuracy:  0.181\n",
      "              precision    recall  f1-score   support\n",
      "\n",
      " T-shirt/top       0.17      0.19      0.18        95\n",
      "     Trouser       0.21      0.54      0.30        41\n",
      "    Pullover       0.14      0.14      0.14       117\n",
      "       Dress       0.11      0.28      0.15        36\n",
      "        Coat       0.15      0.18      0.16        90\n",
      "      Sandal       0.37      0.18      0.24       158\n",
      "       Shirt       0.20      0.16      0.18       139\n",
      "     Sneaker       0.23      0.18      0.20       112\n",
      "         Bag       0.13      0.16      0.15        94\n",
      "  Ankle boot       0.15      0.12      0.13       118\n",
      "\n",
      "    accuracy                           0.18      1000\n",
      "   macro avg       0.19      0.21      0.18      1000\n",
      "weighted avg       0.20      0.18      0.18      1000\n",
      "\n"
     ]
    }
   ],
   "source": [
    "y_valid_101, predictions_101 = get_valid_predictions(net101)\n",
    "\n",
    "print('ResNet-101 accuracy: ', accuracy_score(predictions_101, y_valid_101))\n",
    "print(classification_report(predictions_101, y_valid_101, target_names=labels_text))"
   ]
  },
  {
   "cell_type": "markdown",
   "metadata": {
    "id": "KZMVczsmU_Ay"
   },
   "source": [
    "From the perspective of ResNet model prediction accuracy, that of a single epoch for all the three ResNet models are unsatisfactory. Theoretically known that the accuracy of training results will improve as the number of training epochs increases.\n",
    "\n",
    "Here comes a hyperparameter `NUM_EPOCHS` that we set previously, which indicates how many epochs will be trained. Its initial value is set to 50, you can try to modify the value of this hyperparameter to see how the result will change if you want. But be aware that the larger the value of `NUM_EPOCHS`, the longer the calculation will take.\n",
    "\n",
    "Now, Let's train our model net34, net50 and net101 completely with **`NUM_EPOCHS`** times."
   ]
  },
  {
   "cell_type": "code",
   "execution_count": 32,
   "metadata": {
    "id": "R4lS7U7JU_Ay"
   },
   "outputs": [],
   "source": [
    "criterion = nn.CrossEntropyLoss()\n",
    "\n",
    "def validation(net):\n",
    "    valid_loss = 0\n",
    "    with torch.no_grad():\n",
    "        for data in validloader:\n",
    "            images, labels = data\n",
    "            images = images.to(device)\n",
    "            labels = labels.to(device)\n",
    "            outputs = net(images)\n",
    "            loss = criterion(outputs, labels)\n",
    "            valid_loss += loss.item()\n",
    "    return valid_loss\n",
    "\n",
    "def train_all(net):\n",
    "    optimizer = torch.optim.SGD(net.parameters(), lr=0.1, momentum=0.9)\n",
    "    # optimizer = torch.optim.Adam(net.parameters())      # Alternative optimizer \"Adam\"\n",
    "    train_history = []\n",
    "    valid_history = []\n",
    "    for epoch in range(NUM_EPOCHS):\n",
    "        net.train()\n",
    "        train_loss = 0.0\n",
    "        for i, data in enumerate(trainloader, 0):\n",
    "            # get the inputs; data is a list of [inputs, labels]\n",
    "            inputs, labels = data\n",
    "            inputs = inputs.to(device)\n",
    "            labels = labels.to(device)\n",
    "            # zero the parameter gradients\n",
    "            optimizer.zero_grad()\n",
    "            # forward + backward + optimize\n",
    "            outputs = net(inputs)\n",
    "            loss = criterion(outputs, labels)\n",
    "            loss.backward()\n",
    "            optimizer.step()\n",
    "            train_loss += loss.item()\n",
    "        valid_loss = validation(net)\n",
    "        train_history.append(train_loss)\n",
    "        valid_history.append(valid_loss)\n",
    "        print('Epoch %02d: train loss %0.5f, validation loss %0.5f' % (epoch, train_loss, valid_loss))\n",
    "    return train_history, valid_history"
   ]
  },
  {
   "cell_type": "markdown",
   "metadata": {
    "id": "OREyF0oiU_Az"
   },
   "source": [
    "The training of the ResNet model will take a few minutes depending on the processor. For reference, running on the GPU in my laptop, with `NUM_EPOCHS`=50, ResNet-34 takes about 4 minutes,  ResNet-50 takes about 7 minutes, and ResNet-101 takes about 10 minutes. It will take longer to run on the CPU, that is why it is recommended to run this notebook in Google Colab.\n",
    "\n",
    "Hope that it will take shorter time to run on your side, maybe you can take this opportunity to have a coffee break ;-)  But don't forget to run the following six code cells of model training before going for a coffee!"
   ]
  },
  {
   "cell_type": "code",
   "execution_count": 33,
   "metadata": {
    "colab": {
     "base_uri": "https://localhost:8080/"
    },
    "id": "pVPLS9cgU_Az",
    "outputId": "3e00e392-c589-4997-90f3-9b43e1640d43"
   },
   "outputs": [
    {
     "name": "stdout",
     "output_type": "stream",
     "text": [
      "Epoch 00: train loss 106.03732, validation loss 3.64067\n",
      "Epoch 01: train loss 29.96314, validation loss 2.23967\n",
      "Epoch 02: train loss 19.34668, validation loss 1.82376\n",
      "Epoch 03: train loss 16.69749, validation loss 1.54463\n",
      "Epoch 04: train loss 13.77235, validation loss 1.37090\n",
      "Epoch 05: train loss 12.58052, validation loss 1.31411\n",
      "Epoch 06: train loss 11.56787, validation loss 1.21249\n",
      "Epoch 07: train loss 10.83895, validation loss 1.21739\n",
      "Epoch 08: train loss 10.33804, validation loss 1.10972\n",
      "Epoch 09: train loss 9.75424, validation loss 1.07066\n",
      "Epoch 10: train loss 9.18258, validation loss 1.09703\n",
      "Epoch 11: train loss 8.62650, validation loss 1.06962\n",
      "Epoch 12: train loss 8.19472, validation loss 1.04120\n",
      "Epoch 13: train loss 7.75173, validation loss 0.96505\n",
      "Epoch 14: train loss 7.36269, validation loss 0.96841\n",
      "Epoch 15: train loss 6.71230, validation loss 0.92811\n",
      "Epoch 16: train loss 6.64439, validation loss 0.94405\n",
      "Epoch 17: train loss 6.43581, validation loss 1.03403\n",
      "Epoch 18: train loss 6.00701, validation loss 0.93162\n",
      "Epoch 19: train loss 6.12624, validation loss 0.84613\n",
      "Epoch 20: train loss 5.30521, validation loss 0.94559\n",
      "Epoch 21: train loss 4.98533, validation loss 0.99421\n",
      "Epoch 22: train loss 4.70944, validation loss 0.87976\n",
      "Epoch 23: train loss 4.71063, validation loss 0.93443\n",
      "Epoch 24: train loss 4.68532, validation loss 0.86367\n",
      "Epoch 25: train loss 4.08439, validation loss 0.84776\n",
      "Epoch 26: train loss 3.76946, validation loss 0.92921\n",
      "Epoch 27: train loss 3.88536, validation loss 0.96317\n",
      "Epoch 28: train loss 3.38322, validation loss 0.89442\n",
      "Epoch 29: train loss 3.44234, validation loss 0.87838\n",
      "Epoch 30: train loss 3.30507, validation loss 1.01566\n",
      "Epoch 31: train loss 3.32195, validation loss 0.93252\n",
      "Epoch 32: train loss 3.20608, validation loss 0.92479\n",
      "Epoch 33: train loss 2.35750, validation loss 1.05858\n",
      "Epoch 34: train loss 3.20814, validation loss 0.95650\n",
      "Epoch 35: train loss 2.51930, validation loss 1.09630\n",
      "Epoch 36: train loss 2.21378, validation loss 0.98653\n",
      "Epoch 37: train loss 1.94525, validation loss 1.20969\n",
      "Epoch 38: train loss 1.81479, validation loss 1.19498\n",
      "Epoch 39: train loss 2.38891, validation loss 1.16203\n",
      "Epoch 40: train loss 2.78975, validation loss 1.01675\n",
      "Epoch 41: train loss 1.75792, validation loss 1.09940\n",
      "Epoch 42: train loss 1.25424, validation loss 1.23638\n",
      "Epoch 43: train loss 1.21916, validation loss 1.21818\n",
      "Epoch 44: train loss 1.07360, validation loss 1.36094\n",
      "Epoch 45: train loss 1.44266, validation loss 1.42581\n",
      "Epoch 46: train loss 1.74746, validation loss 1.22139\n",
      "Epoch 47: train loss 1.41041, validation loss 1.26366\n",
      "Epoch 48: train loss 1.00504, validation loss 1.36662\n",
      "Epoch 49: train loss 1.09598, validation loss 1.39736\n",
      "total time for ResNet-34: 259.47122740745544 s\n"
     ]
    }
   ],
   "source": [
    "start = time.time()\n",
    "train_history_34, valid_history_34 = train_all(net34)\n",
    "end = time.time()\n",
    "print(f'total time for ResNet-34: {end - start} s')"
   ]
  },
  {
   "cell_type": "code",
   "execution_count": 49,
   "metadata": {
    "id": "YG_wMMltU_Az"
   },
   "outputs": [],
   "source": [
    "# Save trained model for later use\n",
    "model_file_34 = \"models/resnet34\"   \n",
    "torch.save(net34, model_file_34)"
   ]
  },
  {
   "cell_type": "markdown",
   "metadata": {},
   "source": [
    "<div class=\"alert alert-info\">\n",
    "\n",
    "If you get this error when running the code above for model saving:\n",
    "    \n",
    "    `FileNotFoundError: [Errno 2] No such file or directory: 'models/resnet34'`\n",
    "    \n",
    "Don't worry, this is for the raison that we don't have the `models` folder yet.\n",
    "    \n",
    "Please manually create a `models` folder at the same level as `resnet.ipynb`, and then run the code again.\n",
    "    \n",
    "</div>"
   ]
  },
  {
   "cell_type": "code",
   "execution_count": 36,
   "metadata": {
    "colab": {
     "base_uri": "https://localhost:8080/"
    },
    "id": "SyZFeMhoU_Az",
    "outputId": "7bdbadd5-c9f8-4fd4-9ebc-049433de8466"
   },
   "outputs": [
    {
     "name": "stdout",
     "output_type": "stream",
     "text": [
      "Epoch 00: train loss 242.25215, validation loss 4.50700\n",
      "Epoch 01: train loss 44.66379, validation loss 4.44224\n",
      "Epoch 02: train loss 44.11992, validation loss 4.45448\n",
      "Epoch 03: train loss 43.81619, validation loss 4.40447\n",
      "Epoch 04: train loss 43.68646, validation loss 4.40462\n",
      "Epoch 05: train loss 43.05862, validation loss 4.33753\n",
      "Epoch 06: train loss 42.69764, validation loss 4.34281\n",
      "Epoch 07: train loss 41.98406, validation loss 4.19080\n",
      "Epoch 08: train loss 40.10318, validation loss 3.89935\n",
      "Epoch 09: train loss 38.46389, validation loss 3.68492\n",
      "Epoch 10: train loss 35.12775, validation loss 3.21457\n",
      "Epoch 11: train loss 29.31037, validation loss 2.79990\n",
      "Epoch 12: train loss 25.43008, validation loss 2.50542\n",
      "Epoch 13: train loss 22.94154, validation loss 2.33957\n",
      "Epoch 14: train loss 21.14796, validation loss 2.14664\n",
      "Epoch 15: train loss 19.85869, validation loss 2.39080\n",
      "Epoch 16: train loss 19.17495, validation loss 1.87019\n",
      "Epoch 17: train loss 18.31631, validation loss 1.95705\n",
      "Epoch 18: train loss 18.73210, validation loss 2.17670\n",
      "Epoch 19: train loss 17.26920, validation loss 1.88756\n",
      "Epoch 20: train loss 16.16441, validation loss 1.82676\n",
      "Epoch 21: train loss 16.19204, validation loss 1.98700\n",
      "Epoch 22: train loss 17.03456, validation loss 1.70826\n",
      "Epoch 23: train loss 16.83121, validation loss 1.77825\n",
      "Epoch 24: train loss 15.30285, validation loss 1.70037\n",
      "Epoch 25: train loss 14.79605, validation loss 1.66257\n",
      "Epoch 26: train loss 14.80497, validation loss 2.06878\n",
      "Epoch 27: train loss 14.32114, validation loss 1.72550\n",
      "Epoch 28: train loss 14.60450, validation loss 2.08186\n",
      "Epoch 29: train loss 14.37498, validation loss 1.70200\n",
      "Epoch 30: train loss 12.96209, validation loss 1.53366\n",
      "Epoch 31: train loss 13.62721, validation loss 2.01480\n",
      "Epoch 32: train loss 12.93977, validation loss 1.60934\n",
      "Epoch 33: train loss 13.70625, validation loss 1.59324\n",
      "Epoch 34: train loss 13.41657, validation loss 1.51926\n",
      "Epoch 35: train loss 13.26360, validation loss 1.46505\n",
      "Epoch 36: train loss 11.57944, validation loss 1.38201\n",
      "Epoch 37: train loss 12.35116, validation loss 1.83232\n",
      "Epoch 38: train loss 11.26571, validation loss 1.62347\n",
      "Epoch 39: train loss 10.06946, validation loss 1.34111\n",
      "Epoch 40: train loss 9.03385, validation loss 1.28244\n",
      "Epoch 41: train loss 9.18799, validation loss 1.52329\n",
      "Epoch 42: train loss 9.42552, validation loss 1.42869\n",
      "Epoch 43: train loss 9.60184, validation loss 1.40188\n",
      "Epoch 44: train loss 8.26438, validation loss 1.42029\n",
      "Epoch 45: train loss 7.52138, validation loss 1.35894\n",
      "Epoch 46: train loss 7.60868, validation loss 1.31560\n",
      "Epoch 47: train loss 7.73012, validation loss 1.19661\n",
      "Epoch 48: train loss 8.74156, validation loss 1.39223\n",
      "Epoch 49: train loss 7.61884, validation loss 1.23226\n",
      "total time for ResNet-50: 458.8185613155365 s\n"
     ]
    }
   ],
   "source": [
    "start = time.time()\n",
    "train_history_50, valid_history_50 = train_all(net50)\n",
    "end = time.time()\n",
    "print(f'total time for ResNet-50: {end - start} s')"
   ]
  },
  {
   "cell_type": "code",
   "execution_count": 50,
   "metadata": {
    "id": "QH5d0Df6U_A0"
   },
   "outputs": [],
   "source": [
    "model_file_50 = \"models/resnet50\"\n",
    "torch.save(net50, model_file_50)"
   ]
  },
  {
   "cell_type": "code",
   "execution_count": 38,
   "metadata": {
    "colab": {
     "base_uri": "https://localhost:8080/"
    },
    "id": "lhQGGdNrU_A0",
    "outputId": "5424a5e1-5756-43b9-d31d-55b3465eceba"
   },
   "outputs": [
    {
     "name": "stdout",
     "output_type": "stream",
     "text": [
      "Epoch 00: train loss 213.83583, validation loss 4.45988\n",
      "Epoch 01: train loss 44.73706, validation loss 4.39519\n",
      "Epoch 02: train loss 44.16062, validation loss 4.38512\n",
      "Epoch 03: train loss 42.99606, validation loss 4.11176\n",
      "Epoch 04: train loss 39.44299, validation loss 3.70863\n",
      "Epoch 05: train loss 35.91057, validation loss 3.42217\n",
      "Epoch 06: train loss 33.01411, validation loss 3.24951\n",
      "Epoch 07: train loss 29.21136, validation loss 2.72464\n",
      "Epoch 08: train loss 26.27216, validation loss 2.63650\n",
      "Epoch 09: train loss 24.59198, validation loss 2.34664\n",
      "Epoch 10: train loss 23.77019, validation loss 2.38384\n",
      "Epoch 11: train loss 21.86389, validation loss 2.14144\n",
      "Epoch 12: train loss 19.88868, validation loss 1.97442\n",
      "Epoch 13: train loss 19.32452, validation loss 1.87287\n",
      "Epoch 14: train loss 18.62483, validation loss 2.00889\n",
      "Epoch 15: train loss 17.93157, validation loss 1.74627\n",
      "Epoch 16: train loss 18.95081, validation loss 1.92702\n",
      "Epoch 17: train loss 17.90167, validation loss 1.96143\n",
      "Epoch 18: train loss 16.36273, validation loss 1.65556\n",
      "Epoch 19: train loss 16.19382, validation loss 1.65922\n",
      "Epoch 20: train loss 15.45020, validation loss 1.67795\n",
      "Epoch 21: train loss 14.86357, validation loss 1.57412\n",
      "Epoch 22: train loss 14.59415, validation loss 1.50231\n",
      "Epoch 23: train loss 14.42444, validation loss 1.55528\n",
      "Epoch 24: train loss 14.34375, validation loss 1.48275\n",
      "Epoch 25: train loss 13.61497, validation loss 1.48600\n",
      "Epoch 26: train loss 14.05521, validation loss 1.48419\n",
      "Epoch 27: train loss 13.62298, validation loss 1.43542\n",
      "Epoch 28: train loss 13.13303, validation loss 1.42817\n",
      "Epoch 29: train loss 13.16441, validation loss 1.36079\n",
      "Epoch 30: train loss 12.62460, validation loss 1.33942\n",
      "Epoch 31: train loss 12.13395, validation loss 1.34005\n",
      "Epoch 32: train loss 12.21028, validation loss 1.32312\n",
      "Epoch 33: train loss 11.55449, validation loss 1.26949\n",
      "Epoch 34: train loss 11.22559, validation loss 1.26689\n",
      "Epoch 35: train loss 10.40558, validation loss 1.29268\n",
      "Epoch 36: train loss 10.52490, validation loss 1.22995\n",
      "Epoch 37: train loss 10.11092, validation loss 1.18667\n",
      "Epoch 38: train loss 9.86612, validation loss 1.16533\n",
      "Epoch 39: train loss 9.40071, validation loss 1.09059\n",
      "Epoch 40: train loss 8.98113, validation loss 1.13552\n",
      "Epoch 41: train loss 8.64465, validation loss 1.10112\n",
      "Epoch 42: train loss 9.50260, validation loss 1.25691\n",
      "Epoch 43: train loss 10.05811, validation loss 1.10641\n",
      "Epoch 44: train loss 8.69274, validation loss 1.01366\n",
      "Epoch 45: train loss 7.98112, validation loss 0.94978\n",
      "Epoch 46: train loss 7.38950, validation loss 0.98947\n",
      "Epoch 47: train loss 7.18714, validation loss 1.03247\n",
      "Epoch 48: train loss 7.28541, validation loss 1.06246\n",
      "Epoch 49: train loss 7.41126, validation loss 0.94594\n",
      "total time for ResNet-101: 590.6229286193848 s\n"
     ]
    }
   ],
   "source": [
    "start = time.time()\n",
    "train_history_101, valid_history_101 = train_all(net101)\n",
    "end = time.time()\n",
    "print(f'total time for ResNet-101: {end - start} s')"
   ]
  },
  {
   "cell_type": "code",
   "execution_count": 51,
   "metadata": {
    "id": "IyDGvkVOU_A0"
   },
   "outputs": [],
   "source": [
    "model_file_101 = \"models/resnet101\"\n",
    "torch.save(net101, model_file_101)"
   ]
  },
  {
   "cell_type": "markdown",
   "metadata": {
    "id": "aNatjcmTU_A0"
   },
   "source": [
    "During the training process, the training loss and validation loss of each epoch are saved in the history record and are returned by the function. \n",
    "\n",
    "Let's take a look at these losses more intuitively."
   ]
  },
  {
   "cell_type": "code",
   "execution_count": 40,
   "metadata": {
    "id": "REnpRoMGU_A1"
   },
   "outputs": [],
   "source": [
    "def plot_train_val(train, valid):\n",
    "    fig, ax1 = plt.subplots()\n",
    "    color = 'tab:red'\n",
    "    ax1.set_ylabel('Training', color=color)\n",
    "    ax1.plot(train, color=color)\n",
    "    ax2 = ax1.twinx()\n",
    "    color = 'tab:blue'\n",
    "    ax2.set_ylabel('Validation', color=color)\n",
    "    ax2.plot(valid, color=color)\n",
    "    fig.tight_layout()"
   ]
  },
  {
   "cell_type": "code",
   "execution_count": 41,
   "metadata": {
    "colab": {
     "base_uri": "https://localhost:8080/",
     "height": 296
    },
    "id": "grk61A0CU_A1",
    "outputId": "b4e56f6b-f91e-4262-e718-a20fd6a8d88d"
   },
   "outputs": [
    {
     "data": {
      "image/png": "[encoded data removed]",
      "text/plain": [
       "<Figure size 432x288 with 2 Axes>"
      ]
     },
     "metadata": {
      "needs_background": "light",
      "tags": []
     },
     "output_type": "display_data"
    }
   ],
   "source": [
    "plot_train_val(train_history_34, valid_history_34)"
   ]
  },
  {
   "cell_type": "code",
   "execution_count": 42,
   "metadata": {
    "colab": {
     "base_uri": "https://localhost:8080/",
     "height": 296
    },
    "id": "atnxKbuAU_A1",
    "outputId": "e71d35bf-4ad5-4109-b19f-03766e58e808"
   },
   "outputs": [
    {
     "data": {
      "image/png": "[encoded data removed]",
      "text/plain": [
       "<Figure size 432x288 with 2 Axes>"
      ]
     },
     "metadata": {
      "needs_background": "light",
      "tags": []
     },
     "output_type": "display_data"
    }
   ],
   "source": [
    "plot_train_val(train_history_50, valid_history_50)"
   ]
  },
  {
   "cell_type": "code",
   "execution_count": 43,
   "metadata": {
    "colab": {
     "base_uri": "https://localhost:8080/",
     "height": 296
    },
    "id": "jNIUf5GnU_A1",
    "outputId": "c73e4b34-4c77-4305-b73a-952f26af0698"
   },
   "outputs": [
    {
     "data": {
      "image/png": "[encoded data removed]",
      "text/plain": [
       "<Figure size 432x288 with 2 Axes>"
      ]
     },
     "metadata": {
      "needs_background": "light",
      "tags": []
     },
     "output_type": "display_data"
    }
   ],
   "source": [
    "plot_train_val(train_history_101, valid_history_101)"
   ]
  },
  {
   "cell_type": "markdown",
   "metadata": {
    "id": "hS6RvQbQU_A2"
   },
   "source": [
    "As we see in the above plots, for all these three ResNets, they all have a common phenomenon: the validation loss might fluctuate or increase while minimizing the training loss. This is considered to be caused by overfitting to the training data, which can be solved by some methods practiced in our previous [deep learning courses](https://github.com/SupaeroDataScience/deep-learning/tree/main/deep), such as: Early stopping, change of the optimizer, and Dropout. Due to limited time, we will not do more experiments about overfitting here, but you can try these methods after class if you want.\n",
    "\n",
    "Now let's take a quantitative look at the prediction accuracy of the three residual networks on the validation set."
   ]
  },
  {
   "cell_type": "code",
   "execution_count": 44,
   "metadata": {
    "colab": {
     "base_uri": "https://localhost:8080/"
    },
    "id": "n4NhRZZGU_A2",
    "outputId": "d0437baf-675b-4e0e-8fa3-45eacdee93b2"
   },
   "outputs": [
    {
     "name": "stdout",
     "output_type": "stream",
     "text": [
      "ResNet-34 Accuracy:  0.86\n",
      "              precision    recall  f1-score   support\n",
      "\n",
      " T-shirt/top       0.82      0.75      0.79       114\n",
      "     Trouser       0.97      1.00      0.99       102\n",
      "    Pullover       0.71      0.82      0.76       100\n",
      "       Dress       0.86      0.89      0.88        91\n",
      "        Coat       0.86      0.76      0.81       117\n",
      "      Sandal       0.95      0.97      0.96        73\n",
      "       Shirt       0.64      0.67      0.65       105\n",
      "     Sneaker       0.97      0.89      0.93        95\n",
      "         Bag       0.96      0.93      0.95       116\n",
      "  Ankle boot       0.93      0.99      0.96        87\n",
      "\n",
      "    accuracy                           0.86      1000\n",
      "   macro avg       0.87      0.87      0.87      1000\n",
      "weighted avg       0.86      0.86      0.86      1000\n",
      "\n"
     ]
    }
   ],
   "source": [
    "# If you have saved the trained model before, then uncomment the first line\n",
    "# and you can download the trained model from the `models/` folder.\n",
    "\n",
    "# net34 = torch.load(\"models/resnet34\")\n",
    "\n",
    "y_valid_34, predictions_34 = get_valid_predictions(net34)\n",
    "\n",
    "print('ResNet-34 Accuracy: ', accuracy_score(predictions_34, y_valid_34))\n",
    "print(classification_report(predictions_34, y_valid_34, target_names=labels_text))"
   ]
  },
  {
   "cell_type": "code",
   "execution_count": 45,
   "metadata": {
    "colab": {
     "base_uri": "https://localhost:8080/"
    },
    "id": "msTwC7PKU_A2",
    "outputId": "dc19856b-72c2-4084-ced3-70ba08197dc9"
   },
   "outputs": [
    {
     "name": "stdout",
     "output_type": "stream",
     "text": [
      "ResNet-50 Accuracy:  0.81\n",
      "              precision    recall  f1-score   support\n",
      "\n",
      " T-shirt/top       0.78      0.68      0.73       121\n",
      "     Trouser       0.91      0.99      0.95        97\n",
      "    Pullover       0.79      0.70      0.74       130\n",
      "       Dress       0.79      0.83      0.81        89\n",
      "        Coat       0.81      0.66      0.73       127\n",
      "      Sandal       0.92      0.95      0.93        73\n",
      "       Shirt       0.33      0.58      0.42        62\n",
      "     Sneaker       0.98      0.88      0.92        98\n",
      "         Bag       0.95      0.91      0.93       116\n",
      "  Ankle boot       0.93      0.99      0.96        87\n",
      "\n",
      "    accuracy                           0.81      1000\n",
      "   macro avg       0.82      0.82      0.81      1000\n",
      "weighted avg       0.83      0.81      0.82      1000\n",
      "\n"
     ]
    }
   ],
   "source": [
    "# net50 = torch.load(\"models/resnet50\")\n",
    "\n",
    "y_valid_50, predictions_50 = get_valid_predictions(net50)\n",
    "\n",
    "print('ResNet-50 Accuracy: ', accuracy_score(predictions_50, y_valid_50))\n",
    "print(classification_report(predictions_50, y_valid_50, target_names=labels_text))"
   ]
  },
  {
   "cell_type": "code",
   "execution_count": 46,
   "metadata": {
    "colab": {
     "base_uri": "https://localhost:8080/"
    },
    "id": "YIV5YVe6U_A2",
    "outputId": "f1a59ddb-8947-48d5-aca2-bcc410f41246"
   },
   "outputs": [
    {
     "name": "stdout",
     "output_type": "stream",
     "text": [
      "ResNet-101 Accuracy:  0.841\n",
      "              precision    recall  f1-score   support\n",
      "\n",
      " T-shirt/top       0.86      0.72      0.78       125\n",
      "     Trouser       0.94      1.00      0.97        99\n",
      "    Pullover       0.74      0.83      0.78       103\n",
      "       Dress       0.87      0.77      0.82       106\n",
      "        Coat       0.83      0.66      0.74       130\n",
      "      Sandal       0.93      0.96      0.95        73\n",
      "       Shirt       0.44      0.69      0.53        70\n",
      "     Sneaker       0.97      0.91      0.94        93\n",
      "         Bag       0.96      0.97      0.96       110\n",
      "  Ankle boot       0.97      0.98      0.97        91\n",
      "\n",
      "    accuracy                           0.84      1000\n",
      "   macro avg       0.85      0.85      0.84      1000\n",
      "weighted avg       0.86      0.84      0.84      1000\n",
      "\n"
     ]
    }
   ],
   "source": [
    "# net101 = torch.load(\"models/resnet101\")\n",
    "\n",
    "y_valid_101, predictions_101 = get_valid_predictions(net101)\n",
    "\n",
    "print('ResNet-101 Accuracy: ', accuracy_score(predictions_101, y_valid_101))\n",
    "print(classification_report(predictions_101, y_valid_101, target_names=labels_text))"
   ]
  },
  {
   "cell_type": "markdown",
   "metadata": {
    "id": "vfL7GYeWU_A2"
   },
   "source": [
    "The results show that all the three ResNets show good performance. In the case of 50 epochs, the prediction accuracy of all the three exceeded 80%, even close to 90%. If we further increase the number of epochs `NUM_EPOCHS`, or choose a deeper residual network structure such as ResNet-152, the result will definitely be better according to the [paper [1]](https://openaccess.thecvf.com/content_cvpr_2016/papers/He_Deep_Residual_Learning_CVPR_2016_paper.pdf). However, with the network depth and the number of epochs increase, the time required for model training will be longer."
   ]
  },
  {
   "cell_type": "markdown",
   "metadata": {
    "id": "ynn8g4OQU_A3"
   },
   "source": [
    "### <a id=\"sec4-2\"></a>4.2.  Test for three ResNets\n",
    "\n",
    "We'll test the performance of the three trained residual networks ResNet-34, ResNet-50 and ResNet-101 on the test set."
   ]
  },
  {
   "cell_type": "code",
   "execution_count": 47,
   "metadata": {
    "id": "dGM_GiABU_A3"
   },
   "outputs": [],
   "source": [
    "def run_test(net):\n",
    "    with torch.no_grad():\n",
    "        net.eval()\n",
    "        pred = []\n",
    "        all_label = []\n",
    "        for batch_idx, (data, label) in enumerate(testloader):\n",
    "            batch_x, batch_y = data.to(device), label.to(device)\n",
    "            batch_x, batch_y = Variable(batch_x), Variable(batch_y)\n",
    "            output = net(batch_x)\n",
    "            \n",
    "            pred2 = output.max(1, keepdim=True)[1]\n",
    "            pred2 = pred2.cpu().numpy()  \n",
    "            for ii in range(len(pred2)):\n",
    "                pred.append((pred2[ii])[0])\n",
    "            all_label = np.append(all_label, batch_y.cpu().numpy())\n",
    "\n",
    "    return pred, all_label"
   ]
  },
  {
   "cell_type": "code",
   "execution_count": 58,
   "metadata": {
    "colab": {
     "base_uri": "https://localhost:8080/"
    },
    "id": "WyAtDf-tU_A3",
    "outputId": "5426877b-e203-437e-c38c-2372805fbd5c"
   },
   "outputs": [
    {
     "name": "stdout",
     "output_type": "stream",
     "text": [
      "ResNet-34 Accuracy:  0.8531\n",
      "              precision    recall  f1-score   support\n",
      "\n",
      " T-shirt/top       0.79      0.80      0.79       991\n",
      "     Trouser       0.97      0.99      0.98       981\n",
      "    Pullover       0.67      0.84      0.75       792\n",
      "       Dress       0.83      0.89      0.86       930\n",
      "        Coat       0.89      0.69      0.78      1285\n",
      "      Sandal       0.92      0.98      0.95       940\n",
      "       Shirt       0.61      0.60      0.61      1011\n",
      "     Sneaker       0.99      0.87      0.92      1138\n",
      "         Bag       0.96      0.96      0.96       999\n",
      "  Ankle boot       0.91      0.98      0.94       933\n",
      "\n",
      "    accuracy                           0.85     10000\n",
      "   macro avg       0.85      0.86      0.85     10000\n",
      "weighted avg       0.86      0.85      0.85     10000\n",
      "\n"
     ]
    }
   ],
   "source": [
    "# net34 = torch.load(\"models/resnet34\")\n",
    "pred_34, y_test_34 = run_test(net34)\n",
    "\n",
    "print('ResNet-34 Accuracy: ', accuracy_score(pred_34, y_test_34))\n",
    "print(classification_report(pred_34, y_test_34, target_names=labels_text))"
   ]
  },
  {
   "cell_type": "code",
   "execution_count": 59,
   "metadata": {
    "colab": {
     "base_uri": "https://localhost:8080/"
    },
    "id": "UB_Fmc3VU_A3",
    "outputId": "6bf1a35e-23a8-4b06-f075-a90f9f9cf779"
   },
   "outputs": [
    {
     "name": "stdout",
     "output_type": "stream",
     "text": [
      "ResNet-50 Accuracy:  0.8188\n",
      "              precision    recall  f1-score   support\n",
      "\n",
      " T-shirt/top       0.82      0.73      0.77      1128\n",
      "     Trouser       0.92      0.99      0.95       934\n",
      "    Pullover       0.83      0.63      0.72      1318\n",
      "       Dress       0.80      0.85      0.82       949\n",
      "        Coat       0.69      0.75      0.72       926\n",
      "      Sandal       0.91      0.95      0.93       957\n",
      "       Shirt       0.41      0.56      0.47       739\n",
      "     Sneaker       0.96      0.84      0.90      1143\n",
      "         Bag       0.94      0.95      0.95       985\n",
      "  Ankle boot       0.90      0.97      0.93       921\n",
      "\n",
      "    accuracy                           0.82     10000\n",
      "   macro avg       0.82      0.82      0.82     10000\n",
      "weighted avg       0.83      0.82      0.82     10000\n",
      "\n"
     ]
    }
   ],
   "source": [
    "# net50 = torch.load(\"models/resnet50\")\n",
    "pred_50, y_test_50 = run_test(net50)\n",
    "\n",
    "print('ResNet-50 Accuracy: ', accuracy_score(pred_50, y_test_50))\n",
    "print(classification_report(pred_50, y_test_50, target_names=labels_text))"
   ]
  },
  {
   "cell_type": "code",
   "execution_count": 60,
   "metadata": {
    "colab": {
     "base_uri": "https://localhost:8080/"
    },
    "id": "9gqJwz42U_A4",
    "outputId": "3528684d-93eb-42c5-dfc2-8717f54706b5"
   },
   "outputs": [
    {
     "name": "stdout",
     "output_type": "stream",
     "text": [
      "ResNet-101 Accuracy:  0.832\n",
      "              precision    recall  f1-score   support\n",
      "\n",
      " T-shirt/top       0.86      0.72      0.78      1198\n",
      "     Trouser       0.90      1.00      0.95       904\n",
      "    Pullover       0.72      0.75      0.74       969\n",
      "       Dress       0.86      0.79      0.82      1092\n",
      "        Coat       0.76      0.72      0.74      1046\n",
      "      Sandal       0.93      0.95      0.94       979\n",
      "       Shirt       0.46      0.60      0.52       762\n",
      "     Sneaker       0.94      0.91      0.92      1031\n",
      "         Bag       0.94      0.94      0.94       999\n",
      "  Ankle boot       0.96      0.94      0.95      1020\n",
      "\n",
      "    accuracy                           0.83     10000\n",
      "   macro avg       0.83      0.83      0.83     10000\n",
      "weighted avg       0.84      0.83      0.83     10000\n",
      "\n"
     ]
    }
   ],
   "source": [
    "# net101 = torch.load(\"models/resnet101\")\n",
    "pred_101, y_test_101 = run_test(net101)\n",
    "\n",
    "print('ResNet-101 Accuracy: ', accuracy_score(pred_101, y_test_101))\n",
    "print(classification_report(pred_101, y_test_101, target_names=labels_text))"
   ]
  },
  {
   "cell_type": "markdown",
   "metadata": {
    "id": "2m_n6IHmU_A5"
   },
   "source": [
    "The results show that the test accuracy of the three ResNets has reached more than 80% even close to 90%, which is basically in line with expectations. If we use deeper networks such as ResNet-152, or increase the number of epochs `NUM_EPOCHS`, the performance of the model will be better."
   ]
  },
  {
   "cell_type": "markdown",
   "metadata": {
    "id": "ll62Nh11U_A5"
   },
   "source": [
    "# <a id=\"sec5\"></a>5. Conclusion"
   ]
  },
  {
   "cell_type": "markdown",
   "metadata": {
    "id": "mWz2VFvzU_A5"
   },
   "source": [
    "ResNet has great advantages in deepening the network model and improving the accuracy of learning tasks.\n",
    "\n",
    "$1$. Network architecture design:\n",
    "\n",
    "- All use 3×3 convolution kernels (or most of them)\n",
    "- Spatial size /2 -> filter×2 (guarantee consistent time complexity)\n",
    "- No dropout layer\n",
    "\n",
    "$2$. The experimental results show that ResNet can be trained without any difficulty, and achieve a deeper network structure to achieve lower training error and test error.\n",
    "\n",
    "$3$. Problem analysis of the deep learning networks and some countermeasures proposed:\n",
    "\n",
    "- Characterization ability: ResNet does not have obvious advantages in characterization ability (just repeated parameterization), but it can make the deepening network feasible.\n",
    "- Easy to optimize: ResNet can make the forward/back propagation algorithm more stable (by adding Batch Normolization), greatly simplify and make it easier for the optimization of the deep networks.\n",
    "- Generalization ability: ResNet does not directly consider generalization, but making the network deeper and thinner is a good generalization method."
   ]
  },
  {
   "cell_type": "markdown",
   "metadata": {
    "id": "7jxSNYrsU_A5"
   },
   "source": [
    "# Sources\n",
    "\n",
    "Here is the list of all the links and ressources of this notebook in order of appearance.\n",
    "\n",
    "[1] [Deep Residual Learning for Image Recognition, Kaiming He et al.](https://openaccess.thecvf.com/content_cvpr_2016/papers/He_Deep_Residual_Learning_CVPR_2016_paper.pdf)\n",
    "\n",
    "[2] [Learning Long-Term Dependencies with Gradient Descent is Difficult, Y. Bengio et al.](https://ieeexplore-ieee-org.rev-doc.isae.fr/stamp/stamp.jsp?tp=&arnumber=279181)\n",
    "\n",
    "[3] [Delving Deep into Rectifiers: Surpassing Human-Level Performance on ImageNet Classification, Kaiming He et al.](https://arxiv.org/pdf/1502.01852.pdf)\n",
    "\n",
    "[4] [Batch normalization: Accelerating deep network training by reducing internal covariate shift, S. Ioffe et al.](https://arxiv.org/pdf/1502.03167.pdf)\n",
    "\n",
    "[5] [Caffe: Convolutional Architecture for Fast Feature Embedding, Y. Q. Jia et al.](https://arxiv.org/pdf/1408.5093.pdf)"
   ]
  }
 ],
 "metadata": {
  "accelerator": "GPU",
  "colab": {
   "collapsed_sections": [],
   "name": "resnet2.ipynb",
   "provenance": []
  },
  "kernelspec": {
   "display_name": "Python 3",
   "language": "python",
   "name": "python3"
  },
  "language_info": {
   "codemirror_mode": {
    "name": "ipython",
    "version": 3
   },
   "file_extension": ".py",
   "mimetype": "text/x-python",
   "name": "python",
   "nbconvert_exporter": "python",
   "pygments_lexer": "ipython3",
   "version": "3.7.6"
  }
 },
 "nbformat": 4,
 "nbformat_minor": 1
}
